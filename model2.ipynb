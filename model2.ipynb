{
 "cells": [
  {
   "cell_type": "code",
   "execution_count": 1,
   "metadata": {},
   "outputs": [],
   "source": [
    "import pandas as pd\n",
    "import numpy as np\n",
    "import torch\n",
    "import tensorflow as tf\n",
    "from tensorflow import keras\n",
    "import tensorflow.keras.layers as layers\n",
    "from alive_progress import alive_bar\n",
    "import matplotlib.pyplot as plt\n",
    "import os\n",
    "import shutil"
   ]
  },
  {
   "cell_type": "code",
   "execution_count": 35,
   "metadata": {},
   "outputs": [
    {
     "name": "stdout",
     "output_type": "stream",
     "text": [
      "|████████████████████████████████████████| 5075 in 1:10.2 (72.29/s) \n"
     ]
    }
   ],
   "source": [
    "# RUN ONCE\n",
    "\n",
    "if (os.exists(\"Fall\")):\n",
    "    os.rmdir(\"Fall\")\n",
    "    os.mkdir(\"Fall\")\n",
    "if (os.exists(\"Not Fall\")):\n",
    "    os.rmdir(\"Not Fall\")\n",
    "    os.mkdir(\"Not Fall\")\n",
    "with alive_bar(force_tty=True) as bar:\n",
    "    for folder in os.listdir('sensor_data'):\n",
    "        folder_path  = f'sensor_data/{folder}'\n",
    "        for file in os.listdir(folder_path):\n",
    "            file_path   = f'{folder_path}/{file}'\n",
    "            with open(file_path, \"rbU\") as f:\n",
    "                num_lines = sum(1 for _ in f)\n",
    "            if(19<int(file[4:6])<35):\n",
    "                if(num_lines<=1000):\n",
    "                    shutil.copy(file_path,'Fall')\n",
    "            else:\n",
    "                if(num_lines<=1000):\n",
    "                    shutil.copy(file_path,'Not Fall')\n",
    "            bar()\n",
    "\n",
    "            "
   ]
  },
  {
   "cell_type": "code",
   "execution_count": 2,
   "metadata": {},
   "outputs": [],
   "source": [
    "features = ['AccX','AccY','AccZ','GyrX','GyrY','GyrZ','EulerX','EulerY','EulerZ']"
   ]
  },
  {
   "cell_type": "code",
   "execution_count": 3,
   "metadata": {},
   "outputs": [],
   "source": [
    "X,Y = [],[]"
   ]
  },
  {
   "cell_type": "code",
   "execution_count": 4,
   "metadata": {},
   "outputs": [
    {
     "name": "stdout",
     "output_type": "stream",
     "text": [
      "|████████████████████████████████████████| 2306 in 15.5s (148.25/s)             \n"
     ]
    }
   ],
   "source": [
    "df = None\n",
    "X,Y = [],[]\n",
    "with alive_bar(force_tty=True) as bar: \n",
    "    for file in (os.listdir('Fall')):\n",
    "        file_path = f'Fall/{file}'\n",
    "        df = pd.read_csv(file_path,usecols=features)\n",
    "        df = df.reindex(range(1000), fill_value=0)\n",
    "        X.append(tf.convert_to_tensor(df))\n",
    "        Y.append(1)\n",
    "        bar()\n",
    "\n",
    "# print(df.head())\n",
    "# print(df.tail())"
   ]
  },
  {
   "cell_type": "code",
   "execution_count": 5,
   "metadata": {},
   "outputs": [
    {
     "name": "stdout",
     "output_type": "stream",
     "text": [
      "|████████████████████████████████████████| 2253 in 11.2s (201.69/s)             n 10s (206.8/s) \n"
     ]
    }
   ],
   "source": [
    "df = None\n",
    "with alive_bar(force_tty=True) as bar:\n",
    "    for file in os.listdir('Not Fall'):\n",
    "        file_path = f'Not Fall/{file}'\n",
    "        df = pd.read_csv(file_path,usecols=features)\n",
    "        df = df.reindex(range(1000), fill_value=0)\n",
    "        X.append(tf.convert_to_tensor(df))\n",
    "        Y.append(0)\n",
    "        bar()\n",
    "\n",
    "# print(df.head())\n",
    "# print(df.tail())"
   ]
  },
  {
   "cell_type": "code",
   "execution_count": 6,
   "metadata": {},
   "outputs": [],
   "source": [
    "X_tensor = np.asarray(X)"
   ]
  },
  {
   "cell_type": "code",
   "execution_count": 7,
   "metadata": {},
   "outputs": [],
   "source": [
    "Y_tensor = np.asarray(Y)\n"
   ]
  },
  {
   "cell_type": "code",
   "execution_count": 8,
   "metadata": {},
   "outputs": [],
   "source": [
    "INPUT_DIM = 9\n",
    "OUTPUT_DIM = 1\n",
    "SEQUENCE_LEN = 1000\n",
    "loss=\"binary_crossentropy\"\n",
    "optimizer=\"adam\"\n",
    "metrics=['accuracy']"
   ]
  },
  {
   "cell_type": "code",
   "execution_count": 9,
   "metadata": {},
   "outputs": [],
   "source": [
    "y_tensor=Y_tensor\n",
    "from sklearn.model_selection import train_test_split\n",
    "X_train, X_test, y_train, y_test = train_test_split(X_tensor, y_tensor, test_size=0.20, random_state=42)\n",
    "X_val,X_test,y_val,y_test = train_test_split(X_test, y_test, test_size=0.50, random_state=42)\n"
   ]
  },
  {
   "cell_type": "code",
   "execution_count": 16,
   "metadata": {},
   "outputs": [],
   "source": [
    "model1 = keras.Sequential()\n",
    "model1.add(layers.LSTM(64,input_dim=INPUT_DIM,input_length=SEQUENCE_LEN))\n",
    "model1.add(layers.Dense(16,activation=\"relu\"))\n",
    "model1.add(layers.Dense(OUTPUT_DIM,activation=\"sigmoid\"))\n",
    "model1.compile(loss=loss,optimizer=optimizer,metrics=metrics)"
   ]
  },
  {
   "cell_type": "code",
   "execution_count": 62,
   "metadata": {},
   "outputs": [
    {
     "name": "stdout",
     "output_type": "stream",
     "text": [
      "Epoch 1/10\n",
      "228/228 [==============================] - 15s 59ms/step - loss: 0.5821 - accuracy: 0.6847 - val_loss: 0.5551 - val_accuracy: 0.7566\n",
      "Epoch 2/10\n",
      "228/228 [==============================] - 13s 56ms/step - loss: 0.4580 - accuracy: 0.8199 - val_loss: 0.3590 - val_accuracy: 0.8596\n",
      "Epoch 3/10\n",
      "228/228 [==============================] - 12s 55ms/step - loss: 0.4849 - accuracy: 0.7869 - val_loss: 0.6221 - val_accuracy: 0.6842\n",
      "Epoch 4/10\n",
      "228/228 [==============================] - 13s 56ms/step - loss: 0.3958 - accuracy: 0.8352 - val_loss: 0.4980 - val_accuracy: 0.8311\n",
      "Epoch 5/10\n",
      "228/228 [==============================] - 13s 57ms/step - loss: 0.5100 - accuracy: 0.7551 - val_loss: 0.2849 - val_accuracy: 0.9211\n",
      "Epoch 6/10\n",
      "228/228 [==============================] - 13s 59ms/step - loss: 0.3122 - accuracy: 0.9043 - val_loss: 0.2410 - val_accuracy: 0.9320\n",
      "Epoch 7/10\n",
      "228/228 [==============================] - 13s 59ms/step - loss: 0.3074 - accuracy: 0.9084 - val_loss: 0.2766 - val_accuracy: 0.9211\n",
      "Epoch 8/10\n",
      "228/228 [==============================] - 13s 58ms/step - loss: 0.2889 - accuracy: 0.9164 - val_loss: 0.2724 - val_accuracy: 0.9211\n",
      "Epoch 9/10\n",
      "228/228 [==============================] - 14s 59ms/step - loss: 0.2870 - accuracy: 0.9172 - val_loss: 0.2656 - val_accuracy: 0.9232\n",
      "Epoch 10/10\n",
      "228/228 [==============================] - 13s 59ms/step - loss: 0.2798 - accuracy: 0.9202 - val_loss: 0.2919 - val_accuracy: 0.9145\n"
     ]
    }
   ],
   "source": [
    "# history1 = model1.fit(X_train,y_train,batch_size=16,epochs=10,validation_data=(X_val,y_val),verbose=True)"
   ]
  },
  {
   "cell_type": "code",
   "execution_count": 17,
   "metadata": {},
   "outputs": [
    {
     "name": "stdout",
     "output_type": "stream",
     "text": [
      "Epoch 1/10\n",
      "228/228 [==============================] - 15s 58ms/step - loss: 0.6829 - accuracy: 0.5330 - val_loss: 0.4834 - val_accuracy: 0.7961\n",
      "Epoch 2/10\n",
      "228/228 [==============================] - 14s 60ms/step - loss: 0.4241 - accuracy: 0.8303 - val_loss: 0.5307 - val_accuracy: 0.7785\n",
      "Epoch 3/10\n",
      "228/228 [==============================] - 14s 59ms/step - loss: 0.4828 - accuracy: 0.8111 - val_loss: 0.6069 - val_accuracy: 0.7149\n",
      "Epoch 4/10\n",
      "228/228 [==============================] - 14s 61ms/step - loss: 0.4198 - accuracy: 0.8122 - val_loss: 0.3040 - val_accuracy: 0.9079\n",
      "Epoch 5/10\n",
      "228/228 [==============================] - 13s 57ms/step - loss: 0.3645 - accuracy: 0.8643 - val_loss: 0.3583 - val_accuracy: 0.8399\n",
      "Epoch 6/10\n",
      "228/228 [==============================] - 14s 60ms/step - loss: 0.2548 - accuracy: 0.8914 - val_loss: 0.2757 - val_accuracy: 0.8750\n",
      "Epoch 7/10\n",
      "228/228 [==============================] - 13s 58ms/step - loss: 0.3417 - accuracy: 0.8719 - val_loss: 0.3354 - val_accuracy: 0.8794\n",
      "Epoch 8/10\n",
      "228/228 [==============================] - 14s 61ms/step - loss: 0.3294 - accuracy: 0.8788 - val_loss: 0.3912 - val_accuracy: 0.8311\n",
      "Epoch 9/10\n",
      "228/228 [==============================] - 13s 57ms/step - loss: 0.3134 - accuracy: 0.8832 - val_loss: 0.2415 - val_accuracy: 0.9342\n",
      "Epoch 10/10\n",
      "228/228 [==============================] - 13s 58ms/step - loss: 0.2284 - accuracy: 0.9378 - val_loss: 0.2510 - val_accuracy: 0.9167\n"
     ]
    }
   ],
   "source": [
    "history1dup = model1.fit(X_train,y_train,batch_size=16,epochs=10,validation_data=(X_val,y_val),verbose=True)"
   ]
  },
  {
   "cell_type": "code",
   "execution_count": 63,
   "metadata": {},
   "outputs": [
    {
     "name": "stdout",
     "output_type": "stream",
     "text": [
      "15/15 [==============================] - 1s 33ms/step - loss: 0.3384 - accuracy: 0.8947\n"
     ]
    },
    {
     "data": {
      "text/plain": [
       "{'loss': 0.33844614028930664, 'accuracy': 0.8947368264198303}"
      ]
     },
     "execution_count": 63,
     "metadata": {},
     "output_type": "execute_result"
    }
   ],
   "source": [
    "evaluation = model1.evaluate(X_test,y_test,verbose=True,return_dict=True)\n",
    "evaluation"
   ]
  },
  {
   "cell_type": "code",
   "execution_count": 18,
   "metadata": {},
   "outputs": [
    {
     "name": "stdout",
     "output_type": "stream",
     "text": [
      "15/15 [==============================] - 1s 37ms/step - loss: 0.2508 - accuracy: 0.9145\n"
     ]
    },
    {
     "data": {
      "text/plain": [
       "{'loss': 0.2508365511894226, 'accuracy': 0.9144737124443054}"
      ]
     },
     "execution_count": 18,
     "metadata": {},
     "output_type": "execute_result"
    }
   ],
   "source": [
    "evaluationdup = model1.evaluate(X_test,y_test,verbose=True,return_dict=True)\n",
    "evaluationdup"
   ]
  },
  {
   "cell_type": "code",
   "execution_count": 19,
   "metadata": {},
   "outputs": [
    {
     "data": {
      "image/png": "[encoded data removed]",
      "text/plain": [
       "<Figure size 640x480 with 1 Axes>"
      ]
     },
     "metadata": {},
     "output_type": "display_data"
    }
   ],
   "source": [
    "np.save(\"model1dup.npy\",history1dup.history)\n",
    "history1dup.history\n",
    "plt.plot(history1dup.history['accuracy'])\n",
    "plt.plot(history1dup.history['val_accuracy'])\n",
    "plt.title('model accuracy')\n",
    "plt.ylabel('accuracy')\n",
    "plt.xlabel('epoch')\n",
    "plt.legend(['train', 'val'], loc='upper left')\n",
    "plt.show()"
   ]
  },
  {
   "cell_type": "code",
   "execution_count": 20,
   "metadata": {},
   "outputs": [],
   "source": [
    "model1.save(\"model1_1.h5\",save_format=\"h5\")"
   ]
  },
  {
   "cell_type": "code",
   "execution_count": 21,
   "metadata": {},
   "outputs": [
    {
     "name": "stderr",
     "output_type": "stream",
     "text": [
      "WARNING:absl:Found untraced functions such as lstm_cell_3_layer_call_fn, lstm_cell_3_layer_call_and_return_conditional_losses while saving (showing 2 of 2). These functions will not be directly callable after loading.\n"
     ]
    },
    {
     "name": "stdout",
     "output_type": "stream",
     "text": [
      "INFO:tensorflow:Assets written to: C:\\Users\\prach\\AppData\\Local\\Temp\\tmpoja_mjrw\\assets\n"
     ]
    },
    {
     "name": "stderr",
     "output_type": "stream",
     "text": [
      "INFO:tensorflow:Assets written to: C:\\Users\\prach\\AppData\\Local\\Temp\\tmpoja_mjrw\\assets\n"
     ]
    }
   ],
   "source": [
    "converter = tf.lite.TFLiteConverter.from_keras_model(model1)\n",
    "converter.target_spec.supported_ops = [tf.lite.OpsSet.TFLITE_BUILTINS, tf.lite.OpsSet.SELECT_TF_OPS] \n",
    "converter._experimental_lower_tensor_list_ops = False\n",
    "converter.optimizations = [tf.lite.Optimize.DEFAULT]\n",
    "tflite_model = converter.convert() \n",
    "# Save the model.\n",
    "with open('model1_1.tflite', 'wb') as f:\n",
    "  f.write(tflite_model)\n"
   ]
  },
  {
   "cell_type": "code",
   "execution_count": 1,
   "metadata": {},
   "outputs": [
    {
     "ename": "NameError",
     "evalue": "name 'model1' is not defined",
     "output_type": "error",
     "traceback": [
      "\u001b[1;31m---------------------------------------------------------------------------\u001b[0m",
      "\u001b[1;31mNameError\u001b[0m                                 Traceback (most recent call last)",
      "\u001b[1;32mc:\\Users\\prach\\OneDrive\\Desktop\\Fresh\\K Fall\\model2.ipynb Cell 17\u001b[0m line \u001b[0;36m1\n\u001b[1;32m----> <a href='vscode-notebook-cell:/c%3A/Users/prach/OneDrive/Desktop/Fresh/K%20Fall/model2.ipynb#X63sZmlsZQ%3D%3D?line=0'>1</a>\u001b[0m model1\n",
      "\u001b[1;31mNameError\u001b[0m: name 'model1' is not defined"
     ]
    }
   ],
   "source": [
    "model1"
   ]
  },
  {
   "cell_type": "code",
   "execution_count": null,
   "metadata": {},
   "outputs": [],
   "source": [
    "model1 = tf.keras.models.load_model(\"model1_1.h5\")\n"
   ]
  },
  {
   "cell_type": "code",
   "execution_count": 22,
   "metadata": {},
   "outputs": [
    {
     "name": "stdout",
     "output_type": "stream",
     "text": [
      "29/29 [==============================] - 1s 31ms/step\n",
      "              precision    recall  f1-score   support\n",
      "\n",
      "           0       0.95      0.86      0.91       218\n",
      "           1       0.88      0.96      0.92       238\n",
      "\n",
      "    accuracy                           0.91       456\n",
      "   macro avg       0.92      0.91      0.91       456\n",
      "weighted avg       0.92      0.91      0.91       456\n",
      "\n"
     ]
    }
   ],
   "source": [
    "from sklearn.metrics import classification_report\n",
    "\n",
    "y_pred = model1.predict(X_test, batch_size=16, verbose=1)\n",
    "y_pred = y_pred>0.5\n",
    "# print(y_pred)\n",
    "print(classification_report(y_test, y_pred))"
   ]
  },
  {
   "cell_type": "code",
   "execution_count": 36,
   "metadata": {},
   "outputs": [],
   "source": [
    "model2 = keras.Sequential()\n",
    "model2.add(layers.LSTM(128,input_dim=INPUT_DIM,input_length=SEQUENCE_LEN))\n",
    "model2.add(layers.Dense(64,activation=\"relu\"))\n",
    "model2.add(layers.Dense(32,activation=\"relu\"))\n",
    "model2.add(layers.Dense(16,activation=\"relu\"))\n",
    "model2.add(layers.Dense(OUTPUT_DIM,activation=\"sigmoid\"))\n",
    "model2.compile(loss=loss,optimizer=optimizer,metrics=metrics)"
   ]
  },
  {
   "cell_type": "code",
   "execution_count": 37,
   "metadata": {},
   "outputs": [
    {
     "name": "stdout",
     "output_type": "stream",
     "text": [
      "Epoch 1/10\n",
      "228/228 [==============================] - 16s 61ms/step - loss: 0.6508 - accuracy: 0.5676 - val_loss: 0.3909 - val_accuracy: 0.7807\n",
      "Epoch 2/10\n",
      "228/228 [==============================] - 14s 61ms/step - loss: 0.3529 - accuracy: 0.8432 - val_loss: 0.2623 - val_accuracy: 0.9013\n",
      "Epoch 3/10\n",
      "228/228 [==============================] - 14s 59ms/step - loss: 0.2188 - accuracy: 0.9295 - val_loss: 0.1791 - val_accuracy: 0.9342\n",
      "Epoch 4/10\n",
      "228/228 [==============================] - 13s 57ms/step - loss: 0.1504 - accuracy: 0.9446 - val_loss: 0.0923 - val_accuracy: 0.9846\n",
      "Epoch 5/10\n",
      "228/228 [==============================] - 13s 58ms/step - loss: 0.1380 - accuracy: 0.9537 - val_loss: 0.0901 - val_accuracy: 0.9693\n",
      "Epoch 6/10\n",
      "228/228 [==============================] - 13s 58ms/step - loss: 0.0795 - accuracy: 0.9756 - val_loss: 0.0568 - val_accuracy: 0.9868\n",
      "Epoch 7/10\n",
      "228/228 [==============================] - 14s 61ms/step - loss: 0.0285 - accuracy: 0.9937 - val_loss: 0.0376 - val_accuracy: 0.9934\n",
      "Epoch 8/10\n",
      "228/228 [==============================] - 14s 60ms/step - loss: 0.0144 - accuracy: 0.9962 - val_loss: 0.0306 - val_accuracy: 0.9934\n",
      "Epoch 9/10\n",
      "228/228 [==============================] - 13s 59ms/step - loss: 0.0082 - accuracy: 0.9981 - val_loss: 0.0062 - val_accuracy: 0.9978\n",
      "Epoch 10/10\n",
      "228/228 [==============================] - 14s 61ms/step - loss: 0.0123 - accuracy: 0.9970 - val_loss: 0.0151 - val_accuracy: 0.9956\n"
     ]
    }
   ],
   "source": [
    "history = model2.fit(X_train,y_train,batch_size=16,epochs=10,validation_data=(X_val,y_val),verbose=True)\n"
   ]
  },
  {
   "cell_type": "code",
   "execution_count": 38,
   "metadata": {},
   "outputs": [
    {
     "data": {
      "image/png": "[encoded data removed]",
      "text/plain": [
       "<Figure size 640x480 with 1 Axes>"
      ]
     },
     "metadata": {},
     "output_type": "display_data"
    }
   ],
   "source": [
    "np.save(\"model2.npy\",history.history)\n",
    "history.history\n",
    "plt.plot(history.history['accuracy'])\n",
    "plt.plot(history.history['val_accuracy'])\n",
    "plt.title('model accuracy')\n",
    "plt.ylabel('accuracy')\n",
    "plt.xlabel('epoch')\n",
    "plt.legend(['train', 'val'], loc='upper left')\n",
    "plt.show()"
   ]
  },
  {
   "cell_type": "code",
   "execution_count": 39,
   "metadata": {},
   "outputs": [],
   "source": [
    "model2.save(\"model2_1.h5\",save_format=\"h5\")"
   ]
  },
  {
   "cell_type": "code",
   "execution_count": 40,
   "metadata": {},
   "outputs": [
    {
     "name": "stderr",
     "output_type": "stream",
     "text": [
      "WARNING:absl:Found untraced functions such as lstm_cell_10_layer_call_fn, lstm_cell_10_layer_call_and_return_conditional_losses while saving (showing 2 of 2). These functions will not be directly callable after loading.\n"
     ]
    },
    {
     "name": "stdout",
     "output_type": "stream",
     "text": [
      "INFO:tensorflow:Assets written to: C:\\Users\\prach\\AppData\\Local\\Temp\\tmpx46lcjh5\\assets\n"
     ]
    },
    {
     "name": "stderr",
     "output_type": "stream",
     "text": [
      "INFO:tensorflow:Assets written to: C:\\Users\\prach\\AppData\\Local\\Temp\\tmpx46lcjh5\\assets\n"
     ]
    }
   ],
   "source": [
    "converter = tf.lite.TFLiteConverter.from_keras_model(model2)\n",
    "converter.target_spec.supported_ops = [tf.lite.OpsSet.TFLITE_BUILTINS, tf.lite.OpsSet.SELECT_TF_OPS] \n",
    "converter._experimental_lower_tensor_list_ops = False\n",
    "converter.optimizations = [tf.lite.Optimize.DEFAULT]\n",
    "tflite_model = converter.convert() \n",
    "# Save the model.\n",
    "with open('model2_1.tflite', 'wb') as f:\n",
    "  f.write(tflite_model)\n"
   ]
  },
  {
   "cell_type": "code",
   "execution_count": 41,
   "metadata": {},
   "outputs": [
    {
     "name": "stdout",
     "output_type": "stream",
     "text": [
      "15/15 [==============================] - 1s 37ms/step - loss: 0.0281 - accuracy: 0.9956\n"
     ]
    },
    {
     "data": {
      "text/plain": [
       "{'loss': 0.028108101338148117, 'accuracy': 0.9956140518188477}"
      ]
     },
     "execution_count": 41,
     "metadata": {},
     "output_type": "execute_result"
    }
   ],
   "source": [
    "evaluation2 = model2.evaluate(X_test,y_test,verbose=True,return_dict=True)\n",
    "evaluation2\n",
    "\n"
   ]
  },
  {
   "cell_type": "code",
   "execution_count": 10,
   "metadata": {},
   "outputs": [],
   "source": [
    "model2 = tf.keras.models.load_model(\"model2_1.h5\")"
   ]
  },
  {
   "cell_type": "code",
   "execution_count": 45,
   "metadata": {},
   "outputs": [
    {
     "name": "stderr",
     "output_type": "stream",
     "text": [
      "WARNING:absl:Found untraced functions such as lstm_cell_12_layer_call_fn, lstm_cell_12_layer_call_and_return_conditional_losses while saving (showing 2 of 2). These functions will not be directly callable after loading.\n"
     ]
    },
    {
     "name": "stdout",
     "output_type": "stream",
     "text": [
      "INFO:tensorflow:Assets written to: C:\\Users\\prach\\AppData\\Local\\Temp\\tmpzithriq5\\assets\n"
     ]
    },
    {
     "name": "stderr",
     "output_type": "stream",
     "text": [
      "INFO:tensorflow:Assets written to: C:\\Users\\prach\\AppData\\Local\\Temp\\tmpzithriq5\\assets\n"
     ]
    }
   ],
   "source": [
    "converter = tf.lite.TFLiteConverter.from_keras_model(model2)\n",
    "converter.target_spec.supported_ops = [tf.lite.OpsSet.TFLITE_BUILTINS, tf.lite.OpsSet.SELECT_TF_OPS] \n",
    "converter._experimental_lower_tensor_list_ops = False\n",
    "converter.optimizations = [tf.lite.Optimize.DEFAULT]\n",
    "tflite_model = converter.convert() \n",
    "# Save the model.\n",
    "with open('model2_1.tflite', 'wb') as f:\n",
    "  f.write(tflite_model)\n"
   ]
  },
  {
   "cell_type": "code",
   "execution_count": 27,
   "metadata": {},
   "outputs": [
    {
     "name": "stdout",
     "output_type": "stream",
     "text": [
      "29/29 [==============================] - 1s 34ms/step\n",
      "              precision    recall  f1-score   support\n",
      "\n",
      "           0       0.99      1.00      1.00       218\n",
      "           1       1.00      0.99      1.00       238\n",
      "\n",
      "    accuracy                           1.00       456\n",
      "   macro avg       1.00      1.00      1.00       456\n",
      "weighted avg       1.00      1.00      1.00       456\n",
      "\n"
     ]
    }
   ],
   "source": [
    "from sklearn.metrics import classification_report\n",
    "\n",
    "y_pred = model2.predict(X_test, batch_size=16, verbose=1)\n",
    "y_pred = y_pred>0.5\n",
    "# print(y_pred)\n",
    "print(classification_report(y_test, y_pred))"
   ]
  },
  {
   "cell_type": "code",
   "execution_count": 27,
   "metadata": {},
   "outputs": [],
   "source": [
    "import math\n",
    "import numpy as np\n",
    "\n",
    "def Euler(roll,pitch,yaw):\n",
    "    return pitch,roll,yaw\n",
    "    return pitch*100,roll*100,yaw*100\n",
    "    # ry = roll\n",
    "    # rx = pitch\n",
    "    # rz = yaw\n",
    "    # yawMatrix = np.matrix([\n",
    "    # [math.cos(yaw), -math.sin(yaw), 0],\n",
    "    # [math.sin(yaw), math.cos(yaw), 0],\n",
    "    # [0, 0, 1]\n",
    "    # ])\n",
    "\n",
    "    # pitchMatrix = np.matrix([\n",
    "    # [math.cos(pitch), 0, math.sin(pitch)],\n",
    "    # [0, 1, 0],\n",
    "    # [-math.sin(pitch), 0, math.cos(pitch)]\n",
    "    # ])\n",
    "\n",
    "    # rollMatrix = np.matrix([\n",
    "    # [1, 0, 0],\n",
    "    # [0, math.cos(roll), -math.sin(roll)],\n",
    "    # [0, math.sin(roll), math.cos(roll)]\n",
    "    # ])\n",
    "\n",
    "    # R = yawMatrix * pitchMatrix * rollMatrix\n",
    "\n",
    "    # theta = math.acos(((R[0, 0] + R[1, 1] + R[2, 2]) - 1) / 2)\n",
    "    # multi = 1 / (2 * math.sin(theta))\n",
    "\n",
    "    # rx = multi * (R[2, 1] - R[1, 2]) * theta\n",
    "    # ry = multi * (R[0, 2] - R[2, 0]) * theta\n",
    "    # rz = multi * (R[1, 0] - R[0, 1]) * theta\n",
    "\n",
    "    return rx*57.2958*10, ry*57.2958*10, rz*57.2958*10\n",
    "# \n"
   ]
  },
  {
   "cell_type": "code",
   "execution_count": 28,
   "metadata": {},
   "outputs": [
    {
     "name": "stderr",
     "output_type": "stream",
     "text": [
      "C:\\Users\\prach\\AppData\\Local\\Temp\\ipykernel_13248\\3541330012.py:1: DeprecationWarning: Please use `uniform_filter1d` from the `scipy.ndimage` namespace, the `scipy.ndimage.filters` namespace is deprecated.\n",
      "  from scipy.ndimage.filters import uniform_filter1d\n"
     ]
    }
   ],
   "source": [
    "from scipy.ndimage.filters import uniform_filter1d\n",
    "from scipy import stats"
   ]
  },
  {
   "cell_type": "code",
   "execution_count": 30,
   "metadata": {},
   "outputs": [
    {
     "name": "stdout",
     "output_type": "stream",
     "text": [
      "5000\n"
     ]
    },
    {
     "data": {
      "text/html": [
       "<div>\n",
       "<style scoped>\n",
       "    .dataframe tbody tr th:only-of-type {\n",
       "        vertical-align: middle;\n",
       "    }\n",
       "\n",
       "    .dataframe tbody tr th {\n",
       "        vertical-align: top;\n",
       "    }\n",
       "\n",
       "    .dataframe thead th {\n",
       "        text-align: right;\n",
       "    }\n",
       "</style>\n",
       "<table border=\"1\" class=\"dataframe\">\n",
       "  <thead>\n",
       "    <tr style=\"text-align: right;\">\n",
       "      <th></th>\n",
       "      <th>Acc_X</th>\n",
       "      <th>Acc_Y</th>\n",
       "      <th>Acc_Z</th>\n",
       "      <th>Gyro_X</th>\n",
       "      <th>Gyro_Y</th>\n",
       "      <th>Gyro_Z</th>\n",
       "      <th>EulerX</th>\n",
       "      <th>EulerY</th>\n",
       "      <th>EulerZ</th>\n",
       "    </tr>\n",
       "  </thead>\n",
       "  <tbody>\n",
       "    <tr>\n",
       "      <th>0</th>\n",
       "      <td>-0.855361</td>\n",
       "      <td>-0.495021</td>\n",
       "      <td>-0.081222</td>\n",
       "      <td>-0.043767</td>\n",
       "      <td>-0.016676</td>\n",
       "      <td>-0.020127</td>\n",
       "      <td>30.209808</td>\n",
       "      <td>-5.424178</td>\n",
       "      <td>-29.947860</td>\n",
       "    </tr>\n",
       "    <tr>\n",
       "      <th>1</th>\n",
       "      <td>-0.855922</td>\n",
       "      <td>-0.494924</td>\n",
       "      <td>-0.081209</td>\n",
       "      <td>-0.043706</td>\n",
       "      <td>-0.016004</td>\n",
       "      <td>-0.020250</td>\n",
       "      <td>30.241039</td>\n",
       "      <td>-5.419857</td>\n",
       "      <td>-29.927132</td>\n",
       "    </tr>\n",
       "    <tr>\n",
       "      <th>2</th>\n",
       "      <td>-0.857436</td>\n",
       "      <td>-0.494570</td>\n",
       "      <td>-0.081234</td>\n",
       "      <td>-0.043233</td>\n",
       "      <td>-0.014889</td>\n",
       "      <td>-0.020815</td>\n",
       "      <td>30.312507</td>\n",
       "      <td>-5.412054</td>\n",
       "      <td>-29.866531</td>\n",
       "    </tr>\n",
       "    <tr>\n",
       "      <th>3</th>\n",
       "      <td>-0.859469</td>\n",
       "      <td>-0.493996</td>\n",
       "      <td>-0.081472</td>\n",
       "      <td>-0.042332</td>\n",
       "      <td>-0.013637</td>\n",
       "      <td>-0.021807</td>\n",
       "      <td>30.340019</td>\n",
       "      <td>-5.415223</td>\n",
       "      <td>-29.779811</td>\n",
       "    </tr>\n",
       "    <tr>\n",
       "      <th>4</th>\n",
       "      <td>-0.861966</td>\n",
       "      <td>-0.493330</td>\n",
       "      <td>-0.081564</td>\n",
       "      <td>-0.041186</td>\n",
       "      <td>-0.013118</td>\n",
       "      <td>-0.023121</td>\n",
       "      <td>30.297469</td>\n",
       "      <td>-5.405972</td>\n",
       "      <td>-29.676145</td>\n",
       "    </tr>\n",
       "  </tbody>\n",
       "</table>\n",
       "</div>"
      ],
      "text/plain": [
       "      Acc_X     Acc_Y     Acc_Z    Gyro_X    Gyro_Y    Gyro_Z     EulerX  \\\n",
       "0 -0.855361 -0.495021 -0.081222 -0.043767 -0.016676 -0.020127  30.209808   \n",
       "1 -0.855922 -0.494924 -0.081209 -0.043706 -0.016004 -0.020250  30.241039   \n",
       "2 -0.857436 -0.494570 -0.081234 -0.043233 -0.014889 -0.020815  30.312507   \n",
       "3 -0.859469 -0.493996 -0.081472 -0.042332 -0.013637 -0.021807  30.340019   \n",
       "4 -0.861966 -0.493330 -0.081564 -0.041186 -0.013118 -0.023121  30.297469   \n",
       "\n",
       "     EulerY     EulerZ  \n",
       "0 -5.424178 -29.947860  \n",
       "1 -5.419857 -29.927132  \n",
       "2 -5.412054 -29.866531  \n",
       "3 -5.415223 -29.779811  \n",
       "4 -5.405972 -29.676145  "
      ]
     },
     "execution_count": 30,
     "metadata": {},
     "output_type": "execute_result"
    }
   ],
   "source": [
    "result = pd.read_csv('result.csv')\n",
    "result = result[:5000]\n",
    "result['EulerX'] = 0\n",
    "result['EulerY'] = 0\n",
    "result['EulerZ'] = 0\n",
    "print(len(result))\n",
    "\n",
    "for i in range(len(result)):\n",
    "    result.loc[i,['EulerX','EulerY','EulerZ']] = (Euler(*result.loc[i,['Roll','Pitch','Yaw']]))\n",
    "result = result.drop(columns=['Timestamp','Roll','Yaw','Pitch'])\n",
    "for col in range(9):\n",
    "    result.iloc[:,col] = uniform_filter1d(result.iloc[:,col],size=10)\n",
    "\n",
    "result['Acc_X'],result['Acc_Z'] = result['Acc_Z'],result['Acc_X']\n",
    "result['Gyro_X'],result['Gyro_Z'] = result['Gyro_Z'],result['Gyro_X'] \n",
    "result['EulerX'],result['EulerZ'] = result['EulerZ'],result['EulerX'] \n",
    "result['Acc_X'] = result['Acc_X']/-9.8\n",
    "result['Acc_Y'] = result['Acc_Y']/-9.8\n",
    "result['Acc_Z'] = result['Acc_Z']/-9.8\n",
    "\n",
    "\n",
    "# result['Acc_X']= result['Acc_X']*0.5 + 0.25\n",
    "# result['Acc_Y']= result['Acc_Y'] * 0.4 - 0.7\n",
    "# result['Acc_Z']= result['Acc_Z'] - 0.5\n",
    "\n",
    "# result['Gyro_X']= result['Gyro_X']*10\n",
    "# result['Gyro_Y']= result['Gyro_Y']*10\n",
    "# result['Gyro_Z']= result['Gyro_Z']*10\n",
    "\n",
    "\n",
    "# result['EulerX']= result['EulerX']*0.1+20 \n",
    "# result['EulerY']= result['EulerY']\n",
    "# result['EulerZ']= result['EulerZ']\n",
    "\n",
    "\n",
    "test = result\n",
    "# for col in range(9):\n",
    "#     test.iloc[:,col] = uniform_filter1d(test.iloc[:,col],size=10)\n",
    "\n",
    "test.head()\n",
    "\n"
   ]
  },
  {
   "cell_type": "code",
   "execution_count": 26,
   "metadata": {},
   "outputs": [
    {
     "data": {
      "text/html": [
       "<div>\n",
       "<style scoped>\n",
       "    .dataframe tbody tr th:only-of-type {\n",
       "        vertical-align: middle;\n",
       "    }\n",
       "\n",
       "    .dataframe tbody tr th {\n",
       "        vertical-align: top;\n",
       "    }\n",
       "\n",
       "    .dataframe thead th {\n",
       "        text-align: right;\n",
       "    }\n",
       "</style>\n",
       "<table border=\"1\" class=\"dataframe\">\n",
       "  <thead>\n",
       "    <tr style=\"text-align: right;\">\n",
       "      <th></th>\n",
       "      <th>AccX</th>\n",
       "      <th>AccY</th>\n",
       "      <th>AccZ</th>\n",
       "      <th>GyrX</th>\n",
       "      <th>GyrY</th>\n",
       "      <th>GyrZ</th>\n",
       "      <th>EulerX</th>\n",
       "      <th>EulerY</th>\n",
       "      <th>EulerZ</th>\n",
       "    </tr>\n",
       "  </thead>\n",
       "  <tbody>\n",
       "    <tr>\n",
       "      <th>0</th>\n",
       "      <td>-0.059</td>\n",
       "      <td>-1.007</td>\n",
       "      <td>-0.050</td>\n",
       "      <td>-3.609635</td>\n",
       "      <td>-7.161975</td>\n",
       "      <td>0.859437</td>\n",
       "      <td>87.926135</td>\n",
       "      <td>-3.093973</td>\n",
       "      <td>-53.124666</td>\n",
       "    </tr>\n",
       "    <tr>\n",
       "      <th>1</th>\n",
       "      <td>-0.051</td>\n",
       "      <td>-1.002</td>\n",
       "      <td>-0.060</td>\n",
       "      <td>-5.385805</td>\n",
       "      <td>-4.640960</td>\n",
       "      <td>0.859437</td>\n",
       "      <td>87.874568</td>\n",
       "      <td>-3.099703</td>\n",
       "      <td>-53.170502</td>\n",
       "    </tr>\n",
       "    <tr>\n",
       "      <th>2</th>\n",
       "      <td>-0.058</td>\n",
       "      <td>-0.999</td>\n",
       "      <td>-0.066</td>\n",
       "      <td>-5.500397</td>\n",
       "      <td>-4.812847</td>\n",
       "      <td>0.916733</td>\n",
       "      <td>87.823002</td>\n",
       "      <td>-3.111162</td>\n",
       "      <td>-53.222069</td>\n",
       "    </tr>\n",
       "    <tr>\n",
       "      <th>3</th>\n",
       "      <td>-0.062</td>\n",
       "      <td>-0.999</td>\n",
       "      <td>-0.070</td>\n",
       "      <td>-5.500397</td>\n",
       "      <td>-4.354481</td>\n",
       "      <td>0.974029</td>\n",
       "      <td>87.771436</td>\n",
       "      <td>-3.122621</td>\n",
       "      <td>-53.262176</td>\n",
       "    </tr>\n",
       "    <tr>\n",
       "      <th>4</th>\n",
       "      <td>-0.061</td>\n",
       "      <td>-0.999</td>\n",
       "      <td>-0.076</td>\n",
       "      <td>-5.443101</td>\n",
       "      <td>-3.838819</td>\n",
       "      <td>1.145916</td>\n",
       "      <td>87.685492</td>\n",
       "      <td>-3.139810</td>\n",
       "      <td>-53.290824</td>\n",
       "    </tr>\n",
       "    <tr>\n",
       "      <th>...</th>\n",
       "      <td>...</td>\n",
       "      <td>...</td>\n",
       "      <td>...</td>\n",
       "      <td>...</td>\n",
       "      <td>...</td>\n",
       "      <td>...</td>\n",
       "      <td>...</td>\n",
       "      <td>...</td>\n",
       "      <td>...</td>\n",
       "    </tr>\n",
       "    <tr>\n",
       "      <th>995</th>\n",
       "      <td>0.000</td>\n",
       "      <td>0.000</td>\n",
       "      <td>0.000</td>\n",
       "      <td>0.000000</td>\n",
       "      <td>0.000000</td>\n",
       "      <td>0.000000</td>\n",
       "      <td>0.000000</td>\n",
       "      <td>0.000000</td>\n",
       "      <td>0.000000</td>\n",
       "    </tr>\n",
       "    <tr>\n",
       "      <th>996</th>\n",
       "      <td>0.000</td>\n",
       "      <td>0.000</td>\n",
       "      <td>0.000</td>\n",
       "      <td>0.000000</td>\n",
       "      <td>0.000000</td>\n",
       "      <td>0.000000</td>\n",
       "      <td>0.000000</td>\n",
       "      <td>0.000000</td>\n",
       "      <td>0.000000</td>\n",
       "    </tr>\n",
       "    <tr>\n",
       "      <th>997</th>\n",
       "      <td>0.000</td>\n",
       "      <td>0.000</td>\n",
       "      <td>0.000</td>\n",
       "      <td>0.000000</td>\n",
       "      <td>0.000000</td>\n",
       "      <td>0.000000</td>\n",
       "      <td>0.000000</td>\n",
       "      <td>0.000000</td>\n",
       "      <td>0.000000</td>\n",
       "    </tr>\n",
       "    <tr>\n",
       "      <th>998</th>\n",
       "      <td>0.000</td>\n",
       "      <td>0.000</td>\n",
       "      <td>0.000</td>\n",
       "      <td>0.000000</td>\n",
       "      <td>0.000000</td>\n",
       "      <td>0.000000</td>\n",
       "      <td>0.000000</td>\n",
       "      <td>0.000000</td>\n",
       "      <td>0.000000</td>\n",
       "    </tr>\n",
       "    <tr>\n",
       "      <th>999</th>\n",
       "      <td>0.000</td>\n",
       "      <td>0.000</td>\n",
       "      <td>0.000</td>\n",
       "      <td>0.000000</td>\n",
       "      <td>0.000000</td>\n",
       "      <td>0.000000</td>\n",
       "      <td>0.000000</td>\n",
       "      <td>0.000000</td>\n",
       "      <td>0.000000</td>\n",
       "    </tr>\n",
       "  </tbody>\n",
       "</table>\n",
       "<p>1000 rows × 9 columns</p>\n",
       "</div>"
      ],
      "text/plain": [
       "      AccX   AccY   AccZ      GyrX      GyrY      GyrZ     EulerX    EulerY  \\\n",
       "0   -0.059 -1.007 -0.050 -3.609635 -7.161975  0.859437  87.926135 -3.093973   \n",
       "1   -0.051 -1.002 -0.060 -5.385805 -4.640960  0.859437  87.874568 -3.099703   \n",
       "2   -0.058 -0.999 -0.066 -5.500397 -4.812847  0.916733  87.823002 -3.111162   \n",
       "3   -0.062 -0.999 -0.070 -5.500397 -4.354481  0.974029  87.771436 -3.122621   \n",
       "4   -0.061 -0.999 -0.076 -5.443101 -3.838819  1.145916  87.685492 -3.139810   \n",
       "..     ...    ...    ...       ...       ...       ...        ...       ...   \n",
       "995  0.000  0.000  0.000  0.000000  0.000000  0.000000   0.000000  0.000000   \n",
       "996  0.000  0.000  0.000  0.000000  0.000000  0.000000   0.000000  0.000000   \n",
       "997  0.000  0.000  0.000  0.000000  0.000000  0.000000   0.000000  0.000000   \n",
       "998  0.000  0.000  0.000  0.000000  0.000000  0.000000   0.000000  0.000000   \n",
       "999  0.000  0.000  0.000  0.000000  0.000000  0.000000   0.000000  0.000000   \n",
       "\n",
       "        EulerZ  \n",
       "0   -53.124666  \n",
       "1   -53.170502  \n",
       "2   -53.222069  \n",
       "3   -53.262176  \n",
       "4   -53.290824  \n",
       "..         ...  \n",
       "995   0.000000  \n",
       "996   0.000000  \n",
       "997   0.000000  \n",
       "998   0.000000  \n",
       "999   0.000000  \n",
       "\n",
       "[1000 rows x 9 columns]"
      ]
     },
     "execution_count": 26,
     "metadata": {},
     "output_type": "execute_result"
    }
   ],
   "source": [
    "truth = pd.read_csv('Not Fall/S06T02R01.csv')\n",
    "truth.drop(columns=['TimeStamp(s)','FrameCounter'],inplace=True)\n",
    "truth.reindex(range(1000), fill_value=0)"
   ]
  },
  {
   "cell_type": "code",
   "execution_count": 27,
   "metadata": {},
   "outputs": [
    {
     "name": "stdout",
     "output_type": "stream",
     "text": [
      "(1000, 9)\n",
      "1/1 [==============================] - 0s 101ms/step\n"
     ]
    },
    {
     "ename": "IndexError",
     "evalue": "Too many levels: Index has only 1 level, not 1001",
     "output_type": "error",
     "traceback": [
      "\u001b[1;31m---------------------------------------------------------------------------\u001b[0m",
      "\u001b[1;31mIndexError\u001b[0m                                Traceback (most recent call last)",
      "\u001b[1;32mc:\\Users\\prach\\OneDrive\\Desktop\\Fresh\\K Fall\\model2.ipynb Cell 27\u001b[0m line \u001b[0;36m9\n\u001b[0;32m      <a href='vscode-notebook-cell:/c%3A/Users/prach/OneDrive/Desktop/Fresh/K%20Fall/model2.ipynb#X35sZmlsZQ%3D%3D?line=6'>7</a>\u001b[0m predictions\u001b[39m.\u001b[39mappend(model2\u001b[39m.\u001b[39mpredict(np\u001b[39m.\u001b[39masarray([test_tensor])))\n\u001b[0;32m      <a href='vscode-notebook-cell:/c%3A/Users/prach/OneDrive/Desktop/Fresh/K%20Fall/model2.ipynb#X35sZmlsZQ%3D%3D?line=7'>8</a>\u001b[0m temp \u001b[39m=\u001b[39m truth[i:i\u001b[39m+\u001b[39m\u001b[39m500\u001b[39m]\u001b[39m.\u001b[39mreset_index(drop\u001b[39m=\u001b[39m\u001b[39mTrue\u001b[39;00m)\n\u001b[1;32m----> <a href='vscode-notebook-cell:/c%3A/Users/prach/OneDrive/Desktop/Fresh/K%20Fall/model2.ipynb#X35sZmlsZQ%3D%3D?line=8'>9</a>\u001b[0m temp \u001b[39m=\u001b[39m temp\u001b[39m.\u001b[39;49mreset_index(\u001b[39m1000\u001b[39;49m)\n\u001b[0;32m     <a href='vscode-notebook-cell:/c%3A/Users/prach/OneDrive/Desktop/Fresh/K%20Fall/model2.ipynb#X35sZmlsZQ%3D%3D?line=10'>11</a>\u001b[0m \u001b[39mfor\u001b[39;00m col \u001b[39min\u001b[39;00m \u001b[39mrange\u001b[39m(\u001b[39m9\u001b[39m):\n\u001b[0;32m     <a href='vscode-notebook-cell:/c%3A/Users/prach/OneDrive/Desktop/Fresh/K%20Fall/model2.ipynb#X35sZmlsZQ%3D%3D?line=11'>12</a>\u001b[0m     \u001b[39mprint\u001b[39m(x\u001b[39m.\u001b[39mcolumns[col])\n",
      "File \u001b[1;32mc:\\Users\\prach\\miniconda3\\envs\\tf\\lib\\site-packages\\pandas\\util\\_decorators.py:331\u001b[0m, in \u001b[0;36mdeprecate_nonkeyword_arguments.<locals>.decorate.<locals>.wrapper\u001b[1;34m(*args, **kwargs)\u001b[0m\n\u001b[0;32m    325\u001b[0m \u001b[39mif\u001b[39;00m \u001b[39mlen\u001b[39m(args) \u001b[39m>\u001b[39m num_allow_args:\n\u001b[0;32m    326\u001b[0m     warnings\u001b[39m.\u001b[39mwarn(\n\u001b[0;32m    327\u001b[0m         msg\u001b[39m.\u001b[39mformat(arguments\u001b[39m=\u001b[39m_format_argument_list(allow_args)),\n\u001b[0;32m    328\u001b[0m         \u001b[39mFutureWarning\u001b[39;00m,\n\u001b[0;32m    329\u001b[0m         stacklevel\u001b[39m=\u001b[39mfind_stack_level(),\n\u001b[0;32m    330\u001b[0m     )\n\u001b[1;32m--> 331\u001b[0m \u001b[39mreturn\u001b[39;00m func(\u001b[39m*\u001b[39margs, \u001b[39m*\u001b[39m\u001b[39m*\u001b[39mkwargs)\n",
      "File \u001b[1;32mc:\\Users\\prach\\miniconda3\\envs\\tf\\lib\\site-packages\\pandas\\core\\frame.py:6314\u001b[0m, in \u001b[0;36mDataFrame.reset_index\u001b[1;34m(self, level, drop, inplace, col_level, col_fill, allow_duplicates, names)\u001b[0m\n\u001b[0;32m   6312\u001b[0m \u001b[39mif\u001b[39;00m \u001b[39mnot\u001b[39;00m \u001b[39misinstance\u001b[39m(level, (\u001b[39mtuple\u001b[39m, \u001b[39mlist\u001b[39m)):\n\u001b[0;32m   6313\u001b[0m     level \u001b[39m=\u001b[39m [level]\n\u001b[1;32m-> 6314\u001b[0m level \u001b[39m=\u001b[39m [\u001b[39mself\u001b[39m\u001b[39m.\u001b[39mindex\u001b[39m.\u001b[39m_get_level_number(lev) \u001b[39mfor\u001b[39;00m lev \u001b[39min\u001b[39;00m level]\n\u001b[0;32m   6315\u001b[0m \u001b[39mif\u001b[39;00m \u001b[39mlen\u001b[39m(level) \u001b[39m<\u001b[39m \u001b[39mself\u001b[39m\u001b[39m.\u001b[39mindex\u001b[39m.\u001b[39mnlevels:\n\u001b[0;32m   6316\u001b[0m     new_index \u001b[39m=\u001b[39m \u001b[39mself\u001b[39m\u001b[39m.\u001b[39mindex\u001b[39m.\u001b[39mdroplevel(level)\n",
      "File \u001b[1;32mc:\\Users\\prach\\miniconda3\\envs\\tf\\lib\\site-packages\\pandas\\core\\frame.py:6314\u001b[0m, in \u001b[0;36m<listcomp>\u001b[1;34m(.0)\u001b[0m\n\u001b[0;32m   6312\u001b[0m \u001b[39mif\u001b[39;00m \u001b[39mnot\u001b[39;00m \u001b[39misinstance\u001b[39m(level, (\u001b[39mtuple\u001b[39m, \u001b[39mlist\u001b[39m)):\n\u001b[0;32m   6313\u001b[0m     level \u001b[39m=\u001b[39m [level]\n\u001b[1;32m-> 6314\u001b[0m level \u001b[39m=\u001b[39m [\u001b[39mself\u001b[39;49m\u001b[39m.\u001b[39;49mindex\u001b[39m.\u001b[39;49m_get_level_number(lev) \u001b[39mfor\u001b[39;00m lev \u001b[39min\u001b[39;00m level]\n\u001b[0;32m   6315\u001b[0m \u001b[39mif\u001b[39;00m \u001b[39mlen\u001b[39m(level) \u001b[39m<\u001b[39m \u001b[39mself\u001b[39m\u001b[39m.\u001b[39mindex\u001b[39m.\u001b[39mnlevels:\n\u001b[0;32m   6316\u001b[0m     new_index \u001b[39m=\u001b[39m \u001b[39mself\u001b[39m\u001b[39m.\u001b[39mindex\u001b[39m.\u001b[39mdroplevel(level)\n",
      "File \u001b[1;32mc:\\Users\\prach\\miniconda3\\envs\\tf\\lib\\site-packages\\pandas\\core\\indexes\\base.py:2055\u001b[0m, in \u001b[0;36mIndex._get_level_number\u001b[1;34m(self, level)\u001b[0m\n\u001b[0;32m   2054\u001b[0m \u001b[39mdef\u001b[39;00m \u001b[39m_get_level_number\u001b[39m(\u001b[39mself\u001b[39m, level) \u001b[39m-\u001b[39m\u001b[39m>\u001b[39m \u001b[39mint\u001b[39m:\n\u001b[1;32m-> 2055\u001b[0m     \u001b[39mself\u001b[39;49m\u001b[39m.\u001b[39;49m_validate_index_level(level)\n\u001b[0;32m   2056\u001b[0m     \u001b[39mreturn\u001b[39;00m \u001b[39m0\u001b[39m\n",
      "File \u001b[1;32mc:\\Users\\prach\\miniconda3\\envs\\tf\\lib\\site-packages\\pandas\\core\\indexes\\base.py:2046\u001b[0m, in \u001b[0;36mIndex._validate_index_level\u001b[1;34m(self, level)\u001b[0m\n\u001b[0;32m   2041\u001b[0m         \u001b[39mraise\u001b[39;00m \u001b[39mIndexError\u001b[39;00m(\n\u001b[0;32m   2042\u001b[0m             \u001b[39m\"\u001b[39m\u001b[39mToo many levels: Index has only 1 level, \u001b[39m\u001b[39m\"\u001b[39m\n\u001b[0;32m   2043\u001b[0m             \u001b[39mf\u001b[39m\u001b[39m\"\u001b[39m\u001b[39m{\u001b[39;00mlevel\u001b[39m}\u001b[39;00m\u001b[39m is not a valid level number\u001b[39m\u001b[39m\"\u001b[39m\n\u001b[0;32m   2044\u001b[0m         )\n\u001b[0;32m   2045\u001b[0m     \u001b[39melif\u001b[39;00m level \u001b[39m>\u001b[39m \u001b[39m0\u001b[39m:\n\u001b[1;32m-> 2046\u001b[0m         \u001b[39mraise\u001b[39;00m \u001b[39mIndexError\u001b[39;00m(\n\u001b[0;32m   2047\u001b[0m             \u001b[39mf\u001b[39m\u001b[39m\"\u001b[39m\u001b[39mToo many levels: Index has only 1 level, not \u001b[39m\u001b[39m{\u001b[39;00mlevel\u001b[39m \u001b[39m\u001b[39m+\u001b[39m\u001b[39m \u001b[39m\u001b[39m1\u001b[39m\u001b[39m}\u001b[39;00m\u001b[39m\"\u001b[39m\n\u001b[0;32m   2048\u001b[0m         )\n\u001b[0;32m   2049\u001b[0m \u001b[39melif\u001b[39;00m level \u001b[39m!=\u001b[39m \u001b[39mself\u001b[39m\u001b[39m.\u001b[39mname:\n\u001b[0;32m   2050\u001b[0m     \u001b[39mraise\u001b[39;00m \u001b[39mKeyError\u001b[39;00m(\n\u001b[0;32m   2051\u001b[0m         \u001b[39mf\u001b[39m\u001b[39m\"\u001b[39m\u001b[39mRequested level (\u001b[39m\u001b[39m{\u001b[39;00mlevel\u001b[39m}\u001b[39;00m\u001b[39m) does not match index name (\u001b[39m\u001b[39m{\u001b[39;00m\u001b[39mself\u001b[39m\u001b[39m.\u001b[39mname\u001b[39m}\u001b[39;00m\u001b[39m)\u001b[39m\u001b[39m\"\u001b[39m\n\u001b[0;32m   2052\u001b[0m     )\n",
      "\u001b[1;31mIndexError\u001b[0m: Too many levels: Index has only 1 level, not 1001"
     ]
    }
   ],
   "source": [
    "predictions = []\n",
    "for i in range(250,len(test)-500):\n",
    "    x = test[i:i+500].reset_index(drop=True)\n",
    "    x = x.reindex(range(1000))\n",
    "    test_tensor = tf.convert_to_tensor(x)\n",
    "    print(x.shape)\n",
    "    predictions.append(model2.predict(np.asarray([test_tensor])))\n",
    "    temp = truth[i:i+500].reset_index(drop=True)\n",
    "    temp = temp.reset_index()\n",
    "    for col in range(9):\n",
    "        print(x.columns[col])\n",
    "        plt.figure()\n",
    "        plt.plot(x.iloc[:,col],color='orange')\n",
    "        plt.plot(temp.iloc[:,col],color='green')\n",
    "    break\n",
    "    "
   ]
  },
  {
   "cell_type": "code",
   "execution_count": 24,
   "metadata": {},
   "outputs": [],
   "source": [
    "import time"
   ]
  },
  {
   "cell_type": "code",
   "execution_count": 31,
   "metadata": {},
   "outputs": [
    {
     "name": "stdout",
     "output_type": "stream",
     "text": [
      "      Acc_X     Acc_Y     Acc_Z    Gyro_X    Gyro_Y    Gyro_Z     EulerX  \\\n",
      "0 -0.855361 -0.495021 -0.081222 -0.043767 -0.016676 -0.020127  30.209808   \n",
      "1 -0.855922 -0.494924 -0.081209 -0.043706 -0.016004 -0.020250  30.241039   \n",
      "2 -0.857436 -0.494570 -0.081234 -0.043233 -0.014889 -0.020815  30.312507   \n",
      "3 -0.859469 -0.493996 -0.081472 -0.042332 -0.013637 -0.021807  30.340019   \n",
      "4 -0.861966 -0.493330 -0.081564 -0.041186 -0.013118 -0.023121  30.297469   \n",
      "\n",
      "     EulerY     EulerZ  \n",
      "0 -5.424178 -29.947860  \n",
      "1 -5.419857 -29.927132  \n",
      "2 -5.412054 -29.866531  \n",
      "3 -5.415223 -29.779811  \n",
      "4 -5.405972 -29.676145  \n",
      "1/1 [==============================] - 0s 41ms/step\n",
      "1/1 [==============================] - 0s 41ms/step\n",
      "1/1 [==============================] - 0s 35ms/step\n",
      "1/1 [==============================] - 0s 34ms/step\n",
      "1/1 [==============================] - 0s 36ms/step\n",
      "1/1 [==============================] - 0s 52ms/step\n",
      "1/1 [==============================] - 0s 37ms/step\n",
      "1/1 [==============================] - 0s 34ms/step\n",
      "1/1 [==============================] - 0s 53ms/step\n",
      "1/1 [==============================] - 0s 33ms/step\n",
      "1/1 [==============================] - 0s 34ms/step\n",
      "1/1 [==============================] - 0s 34ms/step\n",
      "1/1 [==============================] - 0s 34ms/step\n",
      "1/1 [==============================] - 0s 37ms/step\n",
      "1/1 [==============================] - 0s 35ms/step\n",
      "1/1 [==============================] - 0s 39ms/step\n",
      "1/1 [==============================] - 0s 36ms/step\n",
      "1/1 [==============================] - 0s 39ms/step\n",
      "1/1 [==============================] - 0s 36ms/step\n"
     ]
    },
    {
     "ename": "KeyboardInterrupt",
     "evalue": "",
     "output_type": "error",
     "traceback": [
      "\u001b[1;31m---------------------------------------------------------------------------\u001b[0m",
      "\u001b[1;31mKeyboardInterrupt\u001b[0m                         Traceback (most recent call last)",
      "\u001b[1;32mc:\\Users\\prach\\OneDrive\\Desktop\\Fresh\\K Fall\\model2.ipynb Cell 29\u001b[0m line \u001b[0;36m7\n\u001b[0;32m      <a href='vscode-notebook-cell:/c%3A/Users/prach/OneDrive/Desktop/Fresh/K%20Fall/model2.ipynb#X40sZmlsZQ%3D%3D?line=4'>5</a>\u001b[0m x \u001b[39m=\u001b[39m test[i:i\u001b[39m+\u001b[39m\u001b[39m500\u001b[39m]\u001b[39m.\u001b[39mreset_index(drop\u001b[39m=\u001b[39m\u001b[39mTrue\u001b[39;00m)\n\u001b[0;32m      <a href='vscode-notebook-cell:/c%3A/Users/prach/OneDrive/Desktop/Fresh/K%20Fall/model2.ipynb#X40sZmlsZQ%3D%3D?line=5'>6</a>\u001b[0m test_tensor \u001b[39m=\u001b[39m tf\u001b[39m.\u001b[39mconvert_to_tensor(x)\n\u001b[1;32m----> <a href='vscode-notebook-cell:/c%3A/Users/prach/OneDrive/Desktop/Fresh/K%20Fall/model2.ipynb#X40sZmlsZQ%3D%3D?line=6'>7</a>\u001b[0m predictions\u001b[39m.\u001b[39mappend(model2\u001b[39m.\u001b[39;49mpredict(np\u001b[39m.\u001b[39;49masarray([test_tensor]))\u001b[39m.\u001b[39mitem())\n",
      "File \u001b[1;32mc:\\Users\\prach\\miniconda3\\envs\\tf\\lib\\site-packages\\keras\\utils\\traceback_utils.py:65\u001b[0m, in \u001b[0;36mfilter_traceback.<locals>.error_handler\u001b[1;34m(*args, **kwargs)\u001b[0m\n\u001b[0;32m     63\u001b[0m filtered_tb \u001b[39m=\u001b[39m \u001b[39mNone\u001b[39;00m\n\u001b[0;32m     64\u001b[0m \u001b[39mtry\u001b[39;00m:\n\u001b[1;32m---> 65\u001b[0m     \u001b[39mreturn\u001b[39;00m fn(\u001b[39m*\u001b[39margs, \u001b[39m*\u001b[39m\u001b[39m*\u001b[39mkwargs)\n\u001b[0;32m     66\u001b[0m \u001b[39mexcept\u001b[39;00m \u001b[39mException\u001b[39;00m \u001b[39mas\u001b[39;00m e:\n\u001b[0;32m     67\u001b[0m     filtered_tb \u001b[39m=\u001b[39m _process_traceback_frames(e\u001b[39m.\u001b[39m__traceback__)\n",
      "File \u001b[1;32mc:\\Users\\prach\\miniconda3\\envs\\tf\\lib\\site-packages\\keras\\engine\\training.py:2249\u001b[0m, in \u001b[0;36mModel.predict\u001b[1;34m(self, x, batch_size, verbose, steps, callbacks, max_queue_size, workers, use_multiprocessing)\u001b[0m\n\u001b[0;32m   2247\u001b[0m callbacks\u001b[39m.\u001b[39mon_predict_begin()\n\u001b[0;32m   2248\u001b[0m batch_outputs \u001b[39m=\u001b[39m \u001b[39mNone\u001b[39;00m\n\u001b[1;32m-> 2249\u001b[0m \u001b[39mfor\u001b[39;00m _, iterator \u001b[39min\u001b[39;00m data_handler\u001b[39m.\u001b[39menumerate_epochs():  \u001b[39m# Single epoch.\u001b[39;00m\n\u001b[0;32m   2250\u001b[0m     \u001b[39mwith\u001b[39;00m data_handler\u001b[39m.\u001b[39mcatch_stop_iteration():\n\u001b[0;32m   2251\u001b[0m         \u001b[39mfor\u001b[39;00m step \u001b[39min\u001b[39;00m data_handler\u001b[39m.\u001b[39msteps():\n",
      "File \u001b[1;32mc:\\Users\\prach\\miniconda3\\envs\\tf\\lib\\site-packages\\keras\\engine\\data_adapter.py:1307\u001b[0m, in \u001b[0;36mDataHandler.enumerate_epochs\u001b[1;34m(self)\u001b[0m\n\u001b[0;32m   1305\u001b[0m \u001b[39m\u001b[39m\u001b[39m\"\"\"Yields `(epoch, tf.data.Iterator)`.\"\"\"\u001b[39;00m\n\u001b[0;32m   1306\u001b[0m \u001b[39mwith\u001b[39;00m \u001b[39mself\u001b[39m\u001b[39m.\u001b[39m_truncate_execution_to_epoch():\n\u001b[1;32m-> 1307\u001b[0m     data_iterator \u001b[39m=\u001b[39m \u001b[39miter\u001b[39;49m(\u001b[39mself\u001b[39;49m\u001b[39m.\u001b[39;49m_dataset)\n\u001b[0;32m   1308\u001b[0m     \u001b[39mfor\u001b[39;00m epoch \u001b[39min\u001b[39;00m \u001b[39mrange\u001b[39m(\u001b[39mself\u001b[39m\u001b[39m.\u001b[39m_initial_epoch, \u001b[39mself\u001b[39m\u001b[39m.\u001b[39m_epochs):\n\u001b[0;32m   1309\u001b[0m         \u001b[39mif\u001b[39;00m \u001b[39mself\u001b[39m\u001b[39m.\u001b[39m_insufficient_data:  \u001b[39m# Set by `catch_stop_iteration`.\u001b[39;00m\n",
      "File \u001b[1;32m~\\AppData\\Roaming\\Python\\Python39\\site-packages\\tensorflow\\python\\data\\ops\\dataset_ops.py:499\u001b[0m, in \u001b[0;36mDatasetV2.__iter__\u001b[1;34m(self)\u001b[0m\n\u001b[0;32m    497\u001b[0m \u001b[39mif\u001b[39;00m context\u001b[39m.\u001b[39mexecuting_eagerly() \u001b[39mor\u001b[39;00m ops\u001b[39m.\u001b[39minside_function():\n\u001b[0;32m    498\u001b[0m   \u001b[39mwith\u001b[39;00m ops\u001b[39m.\u001b[39mcolocate_with(\u001b[39mself\u001b[39m\u001b[39m.\u001b[39m_variant_tensor):\n\u001b[1;32m--> 499\u001b[0m     \u001b[39mreturn\u001b[39;00m iterator_ops\u001b[39m.\u001b[39;49mOwnedIterator(\u001b[39mself\u001b[39;49m)\n\u001b[0;32m    500\u001b[0m \u001b[39melse\u001b[39;00m:\n\u001b[0;32m    501\u001b[0m   \u001b[39mraise\u001b[39;00m \u001b[39mRuntimeError\u001b[39;00m(\u001b[39m\"\u001b[39m\u001b[39m`tf.data.Dataset` only supports Python-style \u001b[39m\u001b[39m\"\u001b[39m\n\u001b[0;32m    502\u001b[0m                      \u001b[39m\"\u001b[39m\u001b[39miteration in eager mode or within tf.function.\u001b[39m\u001b[39m\"\u001b[39m)\n",
      "File \u001b[1;32m~\\AppData\\Roaming\\Python\\Python39\\site-packages\\tensorflow\\python\\data\\ops\\iterator_ops.py:696\u001b[0m, in \u001b[0;36mOwnedIterator.__init__\u001b[1;34m(self, dataset, components, element_spec)\u001b[0m\n\u001b[0;32m    692\u001b[0m   \u001b[39mif\u001b[39;00m (components \u001b[39mis\u001b[39;00m \u001b[39mnot\u001b[39;00m \u001b[39mNone\u001b[39;00m \u001b[39mor\u001b[39;00m element_spec \u001b[39mis\u001b[39;00m \u001b[39mnot\u001b[39;00m \u001b[39mNone\u001b[39;00m):\n\u001b[0;32m    693\u001b[0m     \u001b[39mraise\u001b[39;00m \u001b[39mValueError\u001b[39;00m(\n\u001b[0;32m    694\u001b[0m         \u001b[39m\"\u001b[39m\u001b[39mWhen `dataset` is provided, `element_spec` and `components` must \u001b[39m\u001b[39m\"\u001b[39m\n\u001b[0;32m    695\u001b[0m         \u001b[39m\"\u001b[39m\u001b[39mnot be specified.\u001b[39m\u001b[39m\"\u001b[39m)\n\u001b[1;32m--> 696\u001b[0m   \u001b[39mself\u001b[39;49m\u001b[39m.\u001b[39;49m_create_iterator(dataset)\n\u001b[0;32m    698\u001b[0m \u001b[39mself\u001b[39m\u001b[39m.\u001b[39m_get_next_call_count \u001b[39m=\u001b[39m \u001b[39m0\u001b[39m\n",
      "File \u001b[1;32m~\\AppData\\Roaming\\Python\\Python39\\site-packages\\tensorflow\\python\\data\\ops\\iterator_ops.py:721\u001b[0m, in \u001b[0;36mOwnedIterator._create_iterator\u001b[1;34m(self, dataset)\u001b[0m\n\u001b[0;32m    716\u001b[0m \u001b[39mwith\u001b[39;00m ops\u001b[39m.\u001b[39mcolocate_with(ds_variant):\n\u001b[0;32m    717\u001b[0m   \u001b[39mself\u001b[39m\u001b[39m.\u001b[39m_iterator_resource \u001b[39m=\u001b[39m (\n\u001b[0;32m    718\u001b[0m       gen_dataset_ops\u001b[39m.\u001b[39manonymous_iterator_v3(\n\u001b[0;32m    719\u001b[0m           output_types\u001b[39m=\u001b[39m\u001b[39mself\u001b[39m\u001b[39m.\u001b[39m_flat_output_types,\n\u001b[0;32m    720\u001b[0m           output_shapes\u001b[39m=\u001b[39m\u001b[39mself\u001b[39m\u001b[39m.\u001b[39m_flat_output_shapes))\n\u001b[1;32m--> 721\u001b[0m   gen_dataset_ops\u001b[39m.\u001b[39;49mmake_iterator(ds_variant, \u001b[39mself\u001b[39;49m\u001b[39m.\u001b[39;49m_iterator_resource)\n",
      "File \u001b[1;32m~\\AppData\\Roaming\\Python\\Python39\\site-packages\\tensorflow\\python\\ops\\gen_dataset_ops.py:3408\u001b[0m, in \u001b[0;36mmake_iterator\u001b[1;34m(dataset, iterator, name)\u001b[0m\n\u001b[0;32m   3406\u001b[0m \u001b[39mif\u001b[39;00m tld\u001b[39m.\u001b[39mis_eager:\n\u001b[0;32m   3407\u001b[0m   \u001b[39mtry\u001b[39;00m:\n\u001b[1;32m-> 3408\u001b[0m     _result \u001b[39m=\u001b[39m pywrap_tfe\u001b[39m.\u001b[39;49mTFE_Py_FastPathExecute(\n\u001b[0;32m   3409\u001b[0m       _ctx, \u001b[39m\"\u001b[39;49m\u001b[39mMakeIterator\u001b[39;49m\u001b[39m\"\u001b[39;49m, name, dataset, iterator)\n\u001b[0;32m   3410\u001b[0m     \u001b[39mreturn\u001b[39;00m _result\n\u001b[0;32m   3411\u001b[0m   \u001b[39mexcept\u001b[39;00m _core\u001b[39m.\u001b[39m_NotOkStatusException \u001b[39mas\u001b[39;00m e:\n",
      "\u001b[1;31mKeyboardInterrupt\u001b[0m: "
     ]
    }
   ],
   "source": [
    "predictions = []\n",
    "print(test.head())\n",
    "prediction_time = []\n",
    "for i in range(250,len(test)-500):\n",
    "    x = test[i:i+500].reset_index(drop=True)\n",
    "    test_tensor = tf.convert_to_tensor(x)\n",
    "    predictions.append(model2.predict(np.asarray([test_tensor])).item())"
   ]
  },
  {
   "cell_type": "code",
   "execution_count": 40,
   "metadata": {},
   "outputs": [
    {
     "data": {
      "text/plain": [
       "[<matplotlib.lines.Line2D at 0x2aa7cd21d30>]"
      ]
     },
     "execution_count": 40,
     "metadata": {},
     "output_type": "execute_result"
    },
    {
     "data": {
      "image/png": "[encoded data removed]",
      "text/plain": [
       "<Figure size 640x480 with 1 Axes>"
      ]
     },
     "metadata": {},
     "output_type": "display_data"
    }
   ],
   "source": [
    "plt.plot(predictions)\n",
    "# pd.Series({'time':prediction_time}).head()\n"
   ]
  },
  {
   "cell_type": "code",
   "execution_count": 30,
   "metadata": {},
   "outputs": [
    {
     "name": "stdout",
     "output_type": "stream",
     "text": [
      "5000\n"
     ]
    },
    {
     "data": {
      "text/html": [
       "<div>\n",
       "<style scoped>\n",
       "    .dataframe tbody tr th:only-of-type {\n",
       "        vertical-align: middle;\n",
       "    }\n",
       "\n",
       "    .dataframe tbody tr th {\n",
       "        vertical-align: top;\n",
       "    }\n",
       "\n",
       "    .dataframe thead th {\n",
       "        text-align: right;\n",
       "    }\n",
       "</style>\n",
       "<table border=\"1\" class=\"dataframe\">\n",
       "  <thead>\n",
       "    <tr style=\"text-align: right;\">\n",
       "      <th></th>\n",
       "      <th>Acc_X</th>\n",
       "      <th>Acc_Y</th>\n",
       "      <th>Acc_Z</th>\n",
       "      <th>Gyro_X</th>\n",
       "      <th>Gyro_Y</th>\n",
       "      <th>Gyro_Z</th>\n",
       "      <th>EulerX</th>\n",
       "      <th>EulerY</th>\n",
       "      <th>EulerZ</th>\n",
       "    </tr>\n",
       "  </thead>\n",
       "  <tbody>\n",
       "    <tr>\n",
       "      <th>0</th>\n",
       "      <td>-0.678658</td>\n",
       "      <td>-0.715662</td>\n",
       "      <td>0.255702</td>\n",
       "      <td>-0.086282</td>\n",
       "      <td>-0.051158</td>\n",
       "      <td>0.070950</td>\n",
       "      <td>-82.979675</td>\n",
       "      <td>20.706239</td>\n",
       "      <td>-44.641601</td>\n",
       "    </tr>\n",
       "    <tr>\n",
       "      <th>1</th>\n",
       "      <td>-0.677669</td>\n",
       "      <td>-0.715948</td>\n",
       "      <td>0.255928</td>\n",
       "      <td>-0.086084</td>\n",
       "      <td>-0.054426</td>\n",
       "      <td>0.067117</td>\n",
       "      <td>-82.955212</td>\n",
       "      <td>20.756321</td>\n",
       "      <td>-44.687820</td>\n",
       "    </tr>\n",
       "    <tr>\n",
       "      <th>2</th>\n",
       "      <td>-0.673757</td>\n",
       "      <td>-0.716553</td>\n",
       "      <td>0.255977</td>\n",
       "      <td>-0.085122</td>\n",
       "      <td>-0.062642</td>\n",
       "      <td>0.055740</td>\n",
       "      <td>-82.897187</td>\n",
       "      <td>20.886531</td>\n",
       "      <td>-44.863867</td>\n",
       "    </tr>\n",
       "    <tr>\n",
       "      <th>3</th>\n",
       "      <td>-0.665424</td>\n",
       "      <td>-0.716821</td>\n",
       "      <td>0.254604</td>\n",
       "      <td>-0.082861</td>\n",
       "      <td>-0.070202</td>\n",
       "      <td>0.040774</td>\n",
       "      <td>-82.887897</td>\n",
       "      <td>21.036311</td>\n",
       "      <td>-45.217727</td>\n",
       "    </tr>\n",
       "    <tr>\n",
       "      <th>4</th>\n",
       "      <td>-0.657385</td>\n",
       "      <td>-0.716357</td>\n",
       "      <td>0.250447</td>\n",
       "      <td>-0.080449</td>\n",
       "      <td>-0.074478</td>\n",
       "      <td>0.028527</td>\n",
       "      <td>-82.990933</td>\n",
       "      <td>20.937774</td>\n",
       "      <td>-45.556826</td>\n",
       "    </tr>\n",
       "  </tbody>\n",
       "</table>\n",
       "</div>"
      ],
      "text/plain": [
       "      Acc_X     Acc_Y     Acc_Z    Gyro_X    Gyro_Y    Gyro_Z     EulerX  \\\n",
       "0 -0.678658 -0.715662  0.255702 -0.086282 -0.051158  0.070950 -82.979675   \n",
       "1 -0.677669 -0.715948  0.255928 -0.086084 -0.054426  0.067117 -82.955212   \n",
       "2 -0.673757 -0.716553  0.255977 -0.085122 -0.062642  0.055740 -82.897187   \n",
       "3 -0.665424 -0.716821  0.254604 -0.082861 -0.070202  0.040774 -82.887897   \n",
       "4 -0.657385 -0.716357  0.250447 -0.080449 -0.074478  0.028527 -82.990933   \n",
       "\n",
       "      EulerY     EulerZ  \n",
       "0  20.706239 -44.641601  \n",
       "1  20.756321 -44.687820  \n",
       "2  20.886531 -44.863867  \n",
       "3  21.036311 -45.217727  \n",
       "4  20.937774 -45.556826  "
      ]
     },
     "execution_count": 30,
     "metadata": {},
     "output_type": "execute_result"
    }
   ],
   "source": [
    "result2 = pd.read_csv('phoneThrow.csv')\n",
    "result2 = result2[:5000]\n",
    "result2['EulerX'] = 0\n",
    "result2['EulerY'] = 0\n",
    "result2['EulerZ'] = 0\n",
    "print(len(result2))\n",
    "\n",
    "for i in range(len(result2)):\n",
    "    result2.loc[i,['EulerX','EulerY','EulerZ']] = (Euler(*result2.loc[i,['Roll','Pitch','Yaw']]))\n",
    "result2 = result2.drop(columns=['Timestamp','Roll','Yaw','Pitch'])\n",
    "for col in range(9):\n",
    "    result2.iloc[:,col] = uniform_filter1d(result2.iloc[:,col],size=10)\n",
    "\n",
    "result2['Acc_X'],result2['Acc_Z'] = result2['Acc_Z'],result2['Acc_X']\n",
    "result2['Gyro_X'],result2['Gyro_Z'] = result2['Gyro_Z'],result2['Gyro_X'] \n",
    "result2['EulerX'],result2['EulerZ'] = result2['EulerZ'],result2['EulerX'] \n",
    "result2['Acc_X'] = result2['Acc_X']/-9.8\n",
    "result2['Acc_Y'] = result2['Acc_Y']/-9.8\n",
    "result2['Acc_Z'] = result2['Acc_Z']/-9.8\n",
    "\n",
    "\n",
    "\n",
    "\n",
    "test2 = result2\n",
    "# for col in range(9):\n",
    "#     test.iloc[:,col] = uniform_filter1d(test.iloc[:,col],size=10)\n",
    "\n",
    "test2.head()\n",
    "\n"
   ]
  },
  {
   "cell_type": "code",
   "execution_count": 72,
   "metadata": {},
   "outputs": [],
   "source": [
    "from IPython.display import clear_output"
   ]
  },
  {
   "cell_type": "code",
   "execution_count": 32,
   "metadata": {},
   "outputs": [
    {
     "name": "stdout",
     "output_type": "stream",
     "text": [
      "        Acc_X     Acc_Y     Acc_Z    Gyro_X    Gyro_Y    Gyro_Z     EulerX  \\\n",
      "0    0.236657 -0.930228 -0.769769 -0.748456  0.059680 -0.041965  19.085307   \n",
      "1    0.212094 -0.933946 -0.754807 -0.670115  0.127820 -0.117512  20.089360   \n",
      "2    0.190406 -0.931418 -0.743283 -0.611458  0.164440 -0.208192  20.801299   \n",
      "3    0.176935 -0.928702 -0.713391 -0.578625  0.172396 -0.317595  20.939395   \n",
      "4    0.166979 -0.934556 -0.685770 -0.555886  0.153475 -0.437336  21.039688   \n",
      "..        ...       ...       ...       ...       ...       ...        ...   \n",
      "495 -0.087619 -0.976333  0.239166  1.111070  2.383709 -2.188818  46.619602   \n",
      "496 -0.172155 -0.939482  0.221550  1.104259  2.467762 -2.110355  55.425058   \n",
      "497 -0.220427 -0.897766  0.219328  1.079932  2.517790 -1.968394  55.349943   \n",
      "498 -0.237915 -0.850539  0.242542  1.041495  2.510872 -1.795356  21.414925   \n",
      "499 -0.262112 -0.791176  0.258846  0.997071  2.431539 -1.614347  11.710223   \n",
      "\n",
      "         EulerY     EulerZ  \n",
      "0   -107.463057 -49.472353  \n",
      "1   -106.066654 -50.465491  \n",
      "2   -105.043040 -50.985783  \n",
      "3   -104.650133 -51.900449  \n",
      "4   -104.373357 -52.953768  \n",
      "..          ...        ...  \n",
      "495   17.665485 -53.294514  \n",
      "496   27.838892 -48.579569  \n",
      "497   29.347729 -45.022657  \n",
      "498   33.756405 -42.652762  \n",
      "499   26.590676 -39.943960  \n",
      "\n",
      "[500 rows x 9 columns]\n"
     ]
    },
    {
     "ename": "ValueError",
     "evalue": "in user code:\n\n    File \"c:\\Users\\prach\\miniconda3\\envs\\tf\\lib\\site-packages\\keras\\engine\\training.py\", line 2041, in predict_function  *\n        return step_function(self, iterator)\n    File \"c:\\Users\\prach\\miniconda3\\envs\\tf\\lib\\site-packages\\keras\\engine\\training.py\", line 2027, in step_function  **\n        outputs = model.distribute_strategy.run(run_step, args=(data,))\n    File \"c:\\Users\\prach\\miniconda3\\envs\\tf\\lib\\site-packages\\keras\\engine\\training.py\", line 2015, in run_step  **\n        outputs = model.predict_step(data)\n    File \"c:\\Users\\prach\\miniconda3\\envs\\tf\\lib\\site-packages\\keras\\engine\\training.py\", line 1983, in predict_step\n        return self(x, training=False)\n    File \"c:\\Users\\prach\\miniconda3\\envs\\tf\\lib\\site-packages\\keras\\utils\\traceback_utils.py\", line 70, in error_handler\n        raise e.with_traceback(filtered_tb) from None\n    File \"c:\\Users\\prach\\miniconda3\\envs\\tf\\lib\\site-packages\\keras\\engine\\input_spec.py\", line 295, in assert_input_compatibility\n        raise ValueError(\n\n    ValueError: Input 0 of layer \"sequential_8\" is incompatible with the layer: expected shape=(None, 1000, 9), found shape=(None, 500, 9)\n",
     "output_type": "error",
     "traceback": [
      "\u001b[1;31m---------------------------------------------------------------------------\u001b[0m",
      "\u001b[1;31mValueError\u001b[0m                                Traceback (most recent call last)",
      "\u001b[1;32mc:\\Users\\prach\\OneDrive\\Desktop\\Fresh\\K Fall\\model2.ipynb Cell 33\u001b[0m line \u001b[0;36m6\n\u001b[0;32m      <a href='vscode-notebook-cell:/c%3A/Users/prach/OneDrive/Desktop/Fresh/K%20Fall/model2.ipynb#X44sZmlsZQ%3D%3D?line=3'>4</a>\u001b[0m \u001b[39mprint\u001b[39m(x)\n\u001b[0;32m      <a href='vscode-notebook-cell:/c%3A/Users/prach/OneDrive/Desktop/Fresh/K%20Fall/model2.ipynb#X44sZmlsZQ%3D%3D?line=4'>5</a>\u001b[0m test_tensor \u001b[39m=\u001b[39m tf\u001b[39m.\u001b[39mconvert_to_tensor(x)\n\u001b[1;32m----> <a href='vscode-notebook-cell:/c%3A/Users/prach/OneDrive/Desktop/Fresh/K%20Fall/model2.ipynb#X44sZmlsZQ%3D%3D?line=5'>6</a>\u001b[0m predictions2\u001b[39m.\u001b[39mappend(model2\u001b[39m.\u001b[39;49mpredict(np\u001b[39m.\u001b[39;49masarray([test_tensor]))\u001b[39m.\u001b[39mitem())\n",
      "File \u001b[1;32mc:\\Users\\prach\\miniconda3\\envs\\tf\\lib\\site-packages\\keras\\utils\\traceback_utils.py:70\u001b[0m, in \u001b[0;36mfilter_traceback.<locals>.error_handler\u001b[1;34m(*args, **kwargs)\u001b[0m\n\u001b[0;32m     67\u001b[0m     filtered_tb \u001b[39m=\u001b[39m _process_traceback_frames(e\u001b[39m.\u001b[39m__traceback__)\n\u001b[0;32m     68\u001b[0m     \u001b[39m# To get the full stack trace, call:\u001b[39;00m\n\u001b[0;32m     69\u001b[0m     \u001b[39m# `tf.debugging.disable_traceback_filtering()`\u001b[39;00m\n\u001b[1;32m---> 70\u001b[0m     \u001b[39mraise\u001b[39;00m e\u001b[39m.\u001b[39mwith_traceback(filtered_tb) \u001b[39mfrom\u001b[39;00m \u001b[39mNone\u001b[39m\n\u001b[0;32m     71\u001b[0m \u001b[39mfinally\u001b[39;00m:\n\u001b[0;32m     72\u001b[0m     \u001b[39mdel\u001b[39;00m filtered_tb\n",
      "File \u001b[1;32m~\\AppData\\Local\\Temp\\__autograph_generated_filev7npe5e4.py:15\u001b[0m, in \u001b[0;36mouter_factory.<locals>.inner_factory.<locals>.tf__predict_function\u001b[1;34m(iterator)\u001b[0m\n\u001b[0;32m     13\u001b[0m \u001b[39mtry\u001b[39;00m:\n\u001b[0;32m     14\u001b[0m     do_return \u001b[39m=\u001b[39m \u001b[39mTrue\u001b[39;00m\n\u001b[1;32m---> 15\u001b[0m     retval_ \u001b[39m=\u001b[39m ag__\u001b[39m.\u001b[39mconverted_call(ag__\u001b[39m.\u001b[39mld(step_function), (ag__\u001b[39m.\u001b[39mld(\u001b[39mself\u001b[39m), ag__\u001b[39m.\u001b[39mld(iterator)), \u001b[39mNone\u001b[39;00m, fscope)\n\u001b[0;32m     16\u001b[0m \u001b[39mexcept\u001b[39;00m:\n\u001b[0;32m     17\u001b[0m     do_return \u001b[39m=\u001b[39m \u001b[39mFalse\u001b[39;00m\n",
      "\u001b[1;31mValueError\u001b[0m: in user code:\n\n    File \"c:\\Users\\prach\\miniconda3\\envs\\tf\\lib\\site-packages\\keras\\engine\\training.py\", line 2041, in predict_function  *\n        return step_function(self, iterator)\n    File \"c:\\Users\\prach\\miniconda3\\envs\\tf\\lib\\site-packages\\keras\\engine\\training.py\", line 2027, in step_function  **\n        outputs = model.distribute_strategy.run(run_step, args=(data,))\n    File \"c:\\Users\\prach\\miniconda3\\envs\\tf\\lib\\site-packages\\keras\\engine\\training.py\", line 2015, in run_step  **\n        outputs = model.predict_step(data)\n    File \"c:\\Users\\prach\\miniconda3\\envs\\tf\\lib\\site-packages\\keras\\engine\\training.py\", line 1983, in predict_step\n        return self(x, training=False)\n    File \"c:\\Users\\prach\\miniconda3\\envs\\tf\\lib\\site-packages\\keras\\utils\\traceback_utils.py\", line 70, in error_handler\n        raise e.with_traceback(filtered_tb) from None\n    File \"c:\\Users\\prach\\miniconda3\\envs\\tf\\lib\\site-packages\\keras\\engine\\input_spec.py\", line 295, in assert_input_compatibility\n        raise ValueError(\n\n    ValueError: Input 0 of layer \"sequential_8\" is incompatible with the layer: expected shape=(None, 1000, 9), found shape=(None, 500, 9)\n"
     ]
    }
   ],
   "source": [
    "predictions2 = []\n",
    "for i in range(250,len(test2)-500):\n",
    "    x = test2[i:i+500].reset_index(drop=True)\n",
    "    print(x)\n",
    "    test_tensor = tf.convert_to_tensor(x)\n",
    "    \n",
    "    predictions2.append(model2.predict(np.asarray([test_tensor])).item())\n",
    "\n"
   ]
  },
  {
   "cell_type": "code",
   "execution_count": 92,
   "metadata": {},
   "outputs": [
    {
     "name": "stdout",
     "output_type": "stream",
     "text": [
      "[0.5001952052116394, 0.4960600733757019, 0.488413542509079, 0.4866359531879425, 0.48736539483070374, 0.4884866774082184, 0.49603238701820374, 0.5262543559074402, 0.5883776545524597, 0.624363899230957, 0.6245085000991821, 0.6147034168243408, 0.6002645492553711, 0.5942506790161133, 0.5869068503379822, 0.5830791592597961, 0.5852987170219421, 0.5876034498214722, 0.5887584686279297, 0.587361216545105, 0.5752397775650024, 0.5244817733764648, 0.4531506896018982, 0.4209480881690979, 0.40779605507850647, 0.39910614490509033, 0.3908710777759552, 0.3831564784049988, 0.3766772449016571, 0.37237995862960815, 0.37099963426589966, 0.3717844486236572, 0.37574440240859985, 0.3851665258407593, 0.38953420519828796, 0.3878231346607208, 0.38623693585395813, 0.3873692750930786, 0.38896819949150085, 0.3899843990802765, 0.39298513531684875, 0.4160931706428528, 0.5201138854026794, 0.5840885043144226, 0.5905201435089111, 0.5910696983337402, 0.5886650085449219, 0.5858967900276184, 0.5829939842224121, 0.5827864408493042, 0.5824069976806641, 0.5833605527877808, 0.5921205282211304, 0.6019680500030518, 0.5344739556312561, 0.5874045491218567, 0.5882464647293091, 0.612606406211853, 0.5460847616195679, 0.5494102239608765, 0.5567602515220642, 0.6271933317184448, 0.6853936314582825, 0.686934769153595, 0.668926477432251, 0.6234537363052368, 0.4078804552555084, 0.336344450712204, 0.4370962679386139, 0.5033723711967468, 0.5215385556221008, 0.5071634650230408, 0.509154736995697, 0.5007887482643127, 0.46196600794792175, 0.46351298689842224, 0.4685446619987488, 0.4777399003505707, 0.4953879415988922, 0.5057878494262695, 0.5144268274307251, 0.4349890947341919, 0.3203313648700714, 0.21778039634227753, 0.11973828822374344, 0.12396012991666794, 0.10088123381137848, 0.0819682702422142, 0.07437799125909805, 0.07329443842172623, 0.07334616780281067, 0.07967453449964523, 0.09788000583648682, 0.14641252160072327, 0.18172265589237213, 0.17193269729614258, 0.16410616040229797, 0.16438107192516327, 0.1690448522567749, 0.17364802956581116, 0.1783122718334198, 0.18381279706954956, 0.18879306316375732, 0.19329972565174103, 0.19613441824913025, 0.19652031362056732, 0.1947518289089203, 0.19180677831172943, 0.18831677734851837, 0.18568632006645203, 0.18495109677314758, 0.18515464663505554, 0.18625085055828094, 0.1881628930568695, 0.19026727974414825, 0.19175121188163757, 0.1929224580526352, 0.19388987123966217, 0.19508439302444458, 0.19629867374897003, 0.19715294241905212, 0.1978210210800171, 0.19822640717029572, 0.19790717959403992, 0.19761967658996582, 0.19789151847362518, 0.1990276724100113, 0.20056931674480438, 0.19985538721084595, 0.1973496675491333, 0.19619862735271454, 0.1949172168970108, 0.19286344945430756, 0.19203363358974457, 0.19194847345352173, 0.1916518658399582, 0.1891322135925293, 0.18594087660312653, 0.18431983888149261, 0.18429367244243622, 0.1833985298871994, 0.18300068378448486, 0.18378710746765137, 0.18496647477149963, 0.18579328060150146, 0.18764056265354156, 0.19166365265846252, 0.19667445123195648, 0.20105613768100739, 0.202911376953125, 0.20299123227596283, 0.20267841219902039, 0.201619490981102, 0.19756709039211273, 0.1911524087190628, 0.18419590592384338, 0.17817428708076477, 0.1736152172088623, 0.1697390377521515, 0.16596664488315582, 0.16282247006893158, 0.16070078313350677, 0.15986479818820953, 0.16091112792491913, 0.1636638343334198, 0.1673797070980072, 0.16869696974754333, 0.16810689866542816, 0.1663416177034378, 0.16331560909748077, 0.15966108441352844, 0.1569242775440216, 0.15443488955497742, 0.15143877267837524, 0.14736880362033844, 0.14345073699951172, 0.13936251401901245, 0.13536807894706726, 0.13057471811771393, 0.12355828285217285, 0.1138620376586914, 0.10235979408025742, 0.09242722392082214, 0.08425313979387283, 0.07883036881685257, 0.07532039284706116, 0.07294375449419022, 0.07189538329839706, 0.07153800129890442, 0.07224554568529129, 0.07411462068557739, 0.07506685703992844, 0.07525795698165894, 0.07449042797088623, 0.0726335272192955, 0.06913478672504425, 0.06444969028234482, 0.060733675956726074, 0.057822249829769135, 0.05728753283619881, 0.06125533953309059, 0.06804252415895462, 0.07250908762216568, 0.07390014082193375, 0.07335958629846573, 0.0717097595334053, 0.07086315751075745, 0.0709616169333458, 0.07302310317754745, 0.0756811797618866, 0.08091150969266891, 0.08363260328769684, 0.08244890719652176, 0.07851292937994003, 0.07560040056705475, 0.07392019778490067, 0.07181674242019653, 0.06905467808246613, 0.0649600401520729, 0.06002835929393768, 0.05393408238887787, 0.04672210291028023, 0.03916855528950691, 0.03351324051618576, 0.03439398482441902, 0.0416630282998085, 0.05680204555392265, 0.06574876606464386, 0.06979914009571075, 0.07175467908382416, 0.07277321815490723, 0.07331325858831406, 0.07368412613868713, 0.07395261526107788, 0.07408736646175385, 0.07388336211442947, 0.07342272251844406, 0.07264378666877747, 0.07172969728708267, 0.0706460028886795, 0.06922538578510284, 0.06701060384511948, 0.06405270844697952, 0.06020187959074974, 0.05646371841430664, 0.05352230370044708, 0.051759932190179825, 0.05128619819879532, 0.05213560163974762, 0.05439712107181549, 0.0586627759039402, 0.06431780010461807, 0.07040315121412277, 0.07529641687870026, 0.07819009572267532, 0.08005689829587936, 0.08112387359142303, 0.08177606016397476, 0.08217885345220566, 0.08259858936071396, 0.08311347663402557, 0.08368882536888123, 0.08452855795621872, 0.0861254334449768, 0.08827773481607437, 0.09066259115934372, 0.09306499361991882, 0.09545586258172989, 0.09711591899394989, 0.09866660833358765, 0.10015948116779327, 0.10167514532804489, 0.10336440056562424, 0.10461210459470749, 0.10589177161455154, 0.10684838891029358, 0.10723060369491577, 0.10440562665462494, 0.09863048791885376, 0.09685499221086502, 0.09669196605682373, 0.09629250317811966, 0.09574925899505615, 0.09517110139131546, 0.09454536437988281, 0.09399484843015671, 0.09360441565513611, 0.09338781237602234, 0.09344317018985748, 0.09375621378421783, 0.0942014828324318, 0.09476399421691895, 0.0955774262547493, 0.0965246930718422, 0.09745414555072784, 0.09803639352321625, 0.09847579896450043, 0.09877952933311462, 0.09883364289999008, 0.09845635294914246, 0.09788767248392105, 0.09734027087688446, 0.09676733613014221, 0.09624121338129044, 0.09588050842285156, 0.0952344611287117, 0.09492383152246475, 0.09395195543766022, 0.09192704409360886, 0.08928749710321426, 0.08624090254306793, 0.08355769515037537, 0.08173510432243347, 0.08077982068061829, 0.08092059195041656, 0.08218460530042648, 0.08424464613199234, 0.08504564315080643, 0.08710368722677231, 0.08891494572162628, 0.09072770923376083, 0.09212169051170349, 0.09317891299724579, 0.09396868944168091, 0.09453591704368591, 0.09489018470048904, 0.09461057186126709, 0.09319575130939484, 0.09016008675098419, 0.08531863987445831, 0.08000718802213669, 0.0762622058391571, 0.07424908131361008, 0.07319143414497375, 0.07272209227085114, 0.07292895764112473, 0.07395050674676895, 0.07637706398963928, 0.08017773926258087, 0.08481615036725998, 0.08841326087713242, 0.09024278074502945, 0.09063421934843063, 0.0906810313463211, 0.09067242592573166, 0.08984426409006119, 0.08910327404737473, 0.08905791491270065, 0.09087006002664566, 0.09781192243099213, 0.11054889112710953, 0.11823365837335587, 0.1233062818646431, 0.12945345044136047, 0.1355765014886856, 0.14114439487457275, 0.14566050469875336, 0.14875616133213043, 0.15184515714645386, 0.15392480790615082, 0.15278153121471405, 0.14815938472747803, 0.14228051900863647, 0.1375700682401657, 0.13333500921726227, 0.1288258582353592, 0.12396933138370514, 0.11915614455938339, 0.11468561738729477, 0.11089452356100082, 0.10781016200780869, 0.10586893558502197, 0.10576055943965912, 0.10650311410427094, 0.1084277331829071, 0.11187292635440826, 0.11546077579259872, 0.11777088046073914, 0.11890466511249542, 0.11705867201089859, 0.11186479032039642, 0.10303174704313278, 0.09559043496847153, 0.09032569825649261, 0.08622927218675613, 0.08285879343748093, 0.08005481213331223, 0.07815489172935486, 0.07754543423652649, 0.07882419228553772, 0.07981252670288086, 0.08006726205348969, 0.07989370822906494, 0.07996181398630142, 0.07959853112697601, 0.07897165417671204, 0.07916578650474548, 0.08172854036092758, 0.08758745342493057, 0.09393901377916336, 0.1003982201218605, 0.10608646273612976, 0.11098793894052505, 0.11569143086671829, 0.12148074805736542, 0.12777014076709747, 0.13411323726177216, 0.14627869427204132, 0.16964702308177948, 0.18972371518611908, 0.21514689922332764, 0.24075281620025635, 0.26583132147789, 0.2942134141921997, 0.31669220328330994, 0.32576069235801697, 0.3162872791290283, 0.29506659507751465, 0.26881155371665955, 0.2119446098804474, 0.17200809717178345, 0.15524092316627502, 0.1430848091840744, 0.13402293622493744, 0.12842096388339996, 0.12459186464548111, 0.12088446319103241, 0.11784840375185013, 0.11575602740049362, 0.11910650134086609, 0.11931060254573822, 0.11891117691993713, 0.1241840124130249, 0.13617445528507233, 0.16513416171073914, 0.24614399671554565, 0.34806233644485474, 0.3879202604293823, 0.40128836035728455, 0.4336615204811096, 0.512373685836792, 0.5650942921638489, 0.5781745910644531, 0.5797731280326843, 0.5845229625701904, 0.5969021916389465, 0.6202144026756287, 0.6476053595542908, 0.6669008731842041, 0.6475749611854553, 0.5592740178108215, 0.4362451136112213, 0.34307393431663513, 0.22180067002773285, 0.16974903643131256, 0.16959123313426971, 0.20522737503051758, 0.252225786447525, 0.27095136046409607, 0.27305158972740173, 0.264983206987381, 0.25596752762794495, 0.23796840012073517, 0.18778707087039948, 0.19125871360301971, 0.2111300677061081, 0.22195452451705933, 0.21599487960338593, 0.1995326429605484, 0.18134455382823944, 0.16533337533473969, 0.1560671627521515, 0.1510123312473297, 0.15060840547084808, 0.15276068449020386, 0.15787522494792938, 0.16613508760929108, 0.17417912185192108, 0.17374669015407562, 0.1522485762834549, 0.12982115149497986, 0.11950252950191498, 0.11500567942857742, 0.11411010473966599, 0.11576174199581146, 0.11880868673324585, 0.1230383813381195, 0.12740863859653473, 0.1312347650527954, 0.13346682488918304, 0.13380587100982666, 0.13237500190734863, 0.12830588221549988, 0.1219104751944542, 0.11418000608682632, 0.10964825004339218, 0.10922522097826004, 0.11411621421575546, 0.12554217875003815, 0.143207848072052, 0.15930181741714478, 0.17731262743473053, 0.21067926287651062, 0.2539013922214508, 0.28011777997016907, 0.28915688395500183, 0.29024577140808105, 0.2890782356262207, 0.2869778871536255, 0.282626748085022, 0.2719447612762451, 0.24679479002952576, 0.2142622023820877, 0.19443556666374207, 0.1881224662065506, 0.1847715824842453, 0.18195977807044983, 0.17959021031856537, 0.17773233354091644, 0.17563505470752716, 0.17291532456874847, 0.171481192111969, 0.17189933359622955, 0.17491298913955688, 0.18242771923542023, 0.19383732974529266, 0.20742544531822205, 0.21982596814632416, 0.23045065999031067, 0.23694689571857452, 0.23947682976722717, 0.2376512736082077, 0.2288878858089447, 0.20866690576076508, 0.19028757512569427, 0.1865413933992386, 0.18915362656116486, 0.19253215193748474, 0.19866731762886047, 0.21407544612884521, 0.24902765452861786, 0.27910295128822327, 0.296945720911026, 0.3076115548610687, 0.31835630536079407, 0.3267722427845001, 0.32944199442863464, 0.3268029987812042, 0.31686654686927795, 0.29820483922958374, 0.2729823887348175, 0.24055607616901398, 0.21618835628032684, 0.1950593888759613, 0.17490652203559875, 0.16855238378047943, 0.17209258675575256, 0.1881430596113205, 0.21919751167297363, 0.2500137984752655, 0.262344092130661, 0.26367828249931335, 0.25614824891090393, 0.23079703748226166, 0.1933021992444992, 0.186880424618721, 0.20198561251163483, 0.22768603265285492, 0.2732086479663849, 0.31312689185142517, 0.3459336757659912, 0.37466657161712646, 0.3997276723384857, 0.4191707372665405, 0.4304825961589813, 0.4329855740070343, 0.4232640862464905, 0.4036295413970947, 0.37761926651000977, 0.35272216796875, 0.32720082998275757, 0.295657217502594, 0.2596176862716675, 0.22772932052612305, 0.21282711625099182, 0.2029808759689331, 0.1957826018333435, 0.1926475465297699, 0.18702147901058197, 0.18462863564491272, 0.2036074995994568, 0.21542677283287048, 0.22450265288352966, 0.2586764991283417, 0.3314497470855713, 0.3659677803516388, 0.36598071455955505, 0.3583454489707947, 0.35446152091026306, 0.3567626178264618, 0.3694953918457031, 0.4111993908882141, 0.3780933618545532, 0.4085676372051239, 0.48119306564331055, 0.5527343153953552, 0.622829258441925, 0.6977773904800415, 0.7318450212478638, 0.7374584674835205, 0.7314876317977905, 0.7052063941955566, 0.6504315733909607, 0.5177916288375854, 0.36456674337387085, 0.26399457454681396, 0.21594783663749695, 0.2000867873430252, 0.1944677084684372, 0.19434571266174316, 0.19653484225273132, 0.20184463262557983, 0.20986270904541016, 0.2225128412246704, 0.2411552369594574, 0.26548755168914795, 0.2862699031829834, 0.2994287312030792, 0.3056855797767639, 0.30594944953918457, 0.2993505895137787, 0.2829904854297638, 0.2609900236129761, 0.24121461808681488, 0.2300502359867096, 0.22337037324905396, 0.21903416514396667, 0.21630088984966278, 0.21482989192008972, 0.214150071144104, 0.21426236629486084, 0.21533344686031342, 0.21688774228096008, 0.21893706917762756, 0.22192718088626862, 0.22672945261001587, 0.2343401312828064, 0.25267183780670166, 0.27444255352020264, 0.2917834222316742, 0.3066892623901367, 0.3204116225242615, 0.332764595746994, 0.34321707487106323, 0.3492148816585541, 0.34606119990348816, 0.3305695652961731, 0.3016134798526764, 0.26800835132598877, 0.24045926332473755, 0.22783887386322021, 0.22370150685310364, 0.22175189852714539, 0.22111794352531433, 0.22095607221126556, 0.22106468677520752, 0.22118785977363586, 0.2213892787694931, 0.2213672697544098, 0.2211928516626358, 0.220780611038208, 0.22023510932922363, 0.21928392350673676, 0.21823923289775848, 0.21736910939216614, 0.21618714928627014, 0.21514330804347992, 0.21458327770233154, 0.21434150636196136, 0.21458342671394348, 0.2154058814048767, 0.21663054823875427, 0.21794094145298004, 0.21908356249332428, 0.2199212610721588, 0.22033464908599854, 0.22017288208007812, 0.21984511613845825, 0.21982455253601074, 0.22032159566879272, 0.2213778793811798, 0.2238059788942337, 0.23071826994419098, 0.25152039527893066, 0.30252784490585327, 0.3793521821498871, 0.4244309663772583, 0.4349622428417206, 0.436015248298645, 0.4378158748149872, 0.44575291872024536, 0.4536169767379761, 0.4624662697315216, 0.47275999188423157, 0.48428139090538025, 0.4966305196285248, 0.50862717628479, 0.5197540521621704, 0.5314147472381592, 0.541045069694519, 0.54957115650177, 0.5556114315986633, 0.5617814660072327, 0.5647516250610352, 0.5663520693778992, 0.5702776312828064, 0.5753175020217896, 0.5801699161529541, 0.5845761299133301, 0.5895589590072632, 0.5954044461250305, 0.6009597182273865, 0.6062780618667603, 0.6097030639648438, 0.6087756156921387, 0.632865846157074, 0.644667387008667, 0.6420890092849731, 0.6156004071235657, 0.6026140451431274, 0.6392835378646851, 0.611278235912323, 0.5577062368392944, 0.5226012468338013, 0.5330458879470825, 0.4855739176273346, 0.3849751949310303, 0.35457322001457214, 0.34513914585113525, 0.3342122435569763, 0.4380091726779938, 0.55702143907547, 0.5763527750968933, 0.5550228357315063, 0.5350717902183533, 0.5156033039093018, 0.5068628787994385, 0.4996754229068756, 0.49345752596855164, 0.4856148362159729, 0.47499480843544006, 0.4645575284957886, 0.45588433742523193, 0.4510464072227478, 0.447340190410614, 0.4447266161441803, 0.44707271456718445, 0.46769189834594727, 0.42014023661613464, 0.316891074180603, 0.17097851634025574, 0.08502481877803802, 0.085381880402565, 0.05832993984222412, 0.05686144530773163, 0.05126064643263817, 0.04193589836359024, 0.03855056315660477, 0.06131717935204506, 0.06685083359479904, 0.10966398566961288, 0.29731497168540955, 0.4929256737232208, 0.5555324554443359, 0.5643230676651001, 0.5246777534484863, 0.43095117807388306, 0.36067017912864685, 0.3131462037563324, 0.3435860574245453, 0.3314158320426941, 0.33372509479522705, 0.3419265151023865, 0.35037028789520264, 0.35966217517852783, 0.3692134916782379, 0.3753271996974945, 0.37937575578689575, 0.3752399682998657, 0.3688632845878601, 0.36277320981025696, 0.3504405617713928, 0.3369615375995636, 0.3166055381298065, 0.30938640236854553, 0.3096086084842682, 0.30730417370796204, 0.2993900179862976, 0.2906337082386017, 0.2815376818180084, 0.2746942341327667, 0.2734140157699585, 0.2731510102748871, 0.27786901593208313, 0.2800076901912689, 0.2818987965583801, 0.28487980365753174, 0.2872779369354248, 0.2885875999927521, 0.28871190547943115, 0.2869667410850525, 0.28318092226982117, 0.2780023515224457, 0.27292943000793457, 0.2669251561164856, 0.2604713439941406, 0.2554117441177368, 0.25040918588638306, 0.2456788271665573, 0.24189987778663635, 0.2388947606086731, 0.23560529947280884, 0.2303844392299652, 0.22435346245765686, 0.2191343903541565, 0.2144353985786438, 0.20962756872177124, 0.20471885800361633, 0.17331115901470184, 0.16781948506832123, 0.16242559254169464, 0.15500685572624207, 0.14529891312122345, 0.1374230682849884, 0.1297481656074524, 0.12212523072957993, 0.11899655312299728, 0.1202332153916359, 0.1368061602115631, 0.14617925882339478, 0.1491638571023941, 0.14909160137176514, 0.15950122475624084, 0.17568252980709076, 0.19313791394233704, 0.20365357398986816, 0.1860089749097824, 0.1655680239200592, 0.15096747875213623, 0.1308285892009735, 0.10714071244001389, 0.08785008639097214, 0.07323090732097626, 0.06563569605350494, 0.05871846526861191, 0.058322250843048096, 0.05282357707619667, 0.045347798615694046, 0.03929409757256508, 0.03373699635267258, 0.0352163203060627, 0.044735174626111984, 0.0579490065574646, 0.07121053338050842, 0.08263751119375229, 0.09360388666391373, 0.10355743765830994, 0.11140593141317368, 0.11683154851198196, 0.11976669728755951, 0.12101873010396957, 0.12070309370756149, 0.12101219594478607, 0.12166837602853775, 0.12198866158723831, 0.12115705013275146, 0.11935751140117645, 0.1153925210237503, 0.10966821014881134, 0.10259781032800674, 0.09301439672708511, 0.08298727124929428, 0.0739167183637619, 0.0669739842414856, 0.06193655729293823, 0.05805208534002304, 0.05513077601790428, 0.052833668887615204, 0.04842344671487808, 0.04411718621850014, 0.040986619889736176, 0.039488404989242554, 0.0402204804122448, 0.04464241862297058, 0.05038509517908096, 0.05506163835525513, 0.05921223759651184, 0.06329947710037231, 0.06771788746118546, 0.07260476797819138, 0.07696684449911118, 0.08006636798381805, 0.08189414441585541, 0.08247528225183487, 0.08238168060779572, 0.08213409036397934, 0.08261767029762268, 0.08346845954656601, 0.08548718690872192, 0.08755065500736237, 0.08894984424114227, 0.08907002210617065, 0.08772023767232895, 0.0864335373044014, 0.08541517704725266, 0.08388461172580719, 0.08237403631210327, 0.08053911477327347, 0.07854371517896652, 0.07589758187532425, 0.07107548415660858, 0.06456965208053589, 0.05949421226978302, 0.05685725063085556, 0.056043367832899094, 0.056340865790843964, 0.056969135999679565, 0.05785146728157997, 0.05854819342494011, 0.05874260142445564, 0.0583951361477375, 0.05763046070933342, 0.056735992431640625, 0.05605616047978401, 0.05547638237476349, 0.05476822331547737, 0.05400768294930458, 0.05337603762745857, 0.05293221026659012, 0.05287747085094452, 0.05325763672590256, 0.053778909146785736, 0.05418360233306885, 0.05458727851510048, 0.055230919271707535, 0.05637246370315552, 0.05785546824336052, 0.05954775959253311, 0.06187363713979721, 0.06421412527561188, 0.06612578779459, 0.06785258650779724, 0.06918350607156754, 0.06987985223531723, 0.07028514891862869, 0.07043531537055969, 0.07044685631990433, 0.07045437395572662, 0.07059919089078903, 0.07086458802223206, 0.07086911797523499, 0.07079281657934189, 0.07099837064743042, 0.0711505264043808, 0.07118147611618042, 0.07089388370513916, 0.07024138420820236, 0.069203682243824, 0.06778622418642044, 0.06595113128423691, 0.06341034173965454, 0.06003990396857262, 0.05659157410264015, 0.053499385714530945, 0.050705939531326294, 0.04815676435828209, 0.04581417515873909, 0.04366804659366608, 0.04191342741250992, 0.04048793762922287, 0.03931921347975731, 0.038292840123176575, 0.0375848151743412, 0.03754863888025284, 0.03817562013864517, 0.03916981816291809, 0.040650684386491776, 0.04243238642811775, 0.04449465870857239, 0.0467493012547493, 0.048969414085149765, 0.05087527260184288, 0.05212966352701187, 0.052415937185287476, 0.052442073822021484, 0.05266182869672775, 0.05375344678759575, 0.055830858647823334, 0.05818464607000351, 0.060386065393686295, 0.06216293200850487, 0.06282772868871689, 0.06260397285223007, 0.061913181096315384, 0.061530474573373795, 0.06128903850913048, 0.06087324768304825, 0.060838960111141205, 0.06081411987543106, 0.06094280257821083, 0.061343565583229065, 0.06302706152200699, 0.06388144940137863, 0.06282343715429306, 0.06177834793925285, 0.061080072075128555, 0.06397456675767899, 0.06956368684768677, 0.07526326924562454, 0.07938367873430252, 0.08171959221363068, 0.08229480683803558, 0.08163458853960037, 0.07953647524118423, 0.07639286667108536, 0.07327960431575775, 0.07065174728631973, 0.06946444511413574, 0.07015920430421829, 0.07112544029951096, 0.07199019193649292, 0.07230627536773682, 0.0714358314871788, 0.06952644139528275, 0.06706095486879349, 0.06525707989931107, 0.06405536830425262, 0.06318622082471848, 0.06270011514425278, 0.0626315250992775, 0.06299019604921341, 0.06399187445640564, 0.06587117165327072, 0.06816814839839935, 0.07066734880208969, 0.07301514595746994, 0.07480346411466599, 0.07657846808433533, 0.07825349271297455, 0.08012820035219193, 0.08182911574840546, 0.08263292163610458, 0.08266521245241165, 0.08152898401021957, 0.07921091467142105, 0.07645127177238464, 0.07560298591852188, 0.07805453985929489, 0.0849972665309906, 0.09546374529600143, 0.1112576276063919, 0.1451231837272644, 0.2116727977991104, 0.30261602997779846, 0.35588788986206055, 0.35482776165008545, 0.30201900005340576, 0.173288956284523, 0.11106663942337036, 0.09184613823890686, 0.11520501226186752, 0.1346731036901474, 0.13305425643920898, 0.12994864583015442, 0.12796135246753693, 0.1265905499458313, 0.12507088482379913, 0.12321017682552338, 0.12072955071926117, 0.11793779581785202, 0.11493111401796341, 0.11117503046989441, 0.10739696770906448, 0.10249867290258408, 0.09805404394865036, 0.09457149356603622, 0.09307555854320526, 0.09527366608381271, 0.09553006291389465, 0.09720145910978317, 0.10179115831851959, 0.11108192056417465, 0.1271669566631317, 0.16434729099273682, 0.21709522604942322, 0.2573348581790924, 0.3130332827568054, 0.39284834265708923, 0.46835118532180786, 0.5479550957679749, 0.5983032584190369, 0.6240876913070679, 0.6299712061882019, 0.5943611264228821, 0.49881407618522644, 0.35961320996284485, 0.250748872756958, 0.2759395241737366, 0.2752732038497925, 0.36719998717308044, 0.43412816524505615, 0.5923458933830261, 0.8500057458877563, 0.9242532253265381, 0.9235004186630249, 0.9135842323303223, 0.9083597660064697, 0.901088535785675, 0.8287608623504639, 0.6837078928947449, 0.6763617992401123, 0.7254189848899841, 0.6956948637962341, 0.5461112856864929, 0.42493879795074463, 0.392159104347229, 0.38194581866264343, 0.37716877460479736, 0.3760574460029602, 0.3738919198513031, 0.3769094944000244, 0.3821088969707489, 0.3872605264186859, 0.391740620136261, 0.3881019949913025, 0.3911643624305725, 0.404132604598999, 0.41666483879089355, 0.41735318303108215, 0.41800665855407715, 0.4201233386993408, 0.41792812943458557, 0.4178599715232849, 0.4220457375049591, 0.43088221549987793, 0.4409279227256775, 0.44120335578918457, 0.4230891168117523, 0.3893013298511505, 0.3772135078907013, 0.38901641964912415, 0.37783104181289673, 0.29254150390625, 0.27382954955101013, 0.2736193835735321, 0.28415822982788086, 0.3022972047328949, 0.31623464822769165, 0.3465254008769989, 0.39689508080482483, 0.41289615631103516, 0.42052215337753296, 0.4268362522125244, 0.4380112290382385, 0.4594610333442688, 0.48080381751060486, 0.4906877875328064, 0.47305870056152344, 0.4083945155143738, 0.2998935580253601, 0.27596670389175415, 0.26857006549835205, 0.29110515117645264, 0.3074743151664734, 0.3004750907421112, 0.29196640849113464, 0.2831576466560364, 0.27616265416145325, 0.2698224186897278, 0.26347678899765015, 0.24043312668800354, 0.23228280246257782, 0.226033017039299, 0.19978167116641998, 0.19212640821933746, 0.18579591810703278, 0.18090449273586273, 0.17916256189346313, 0.18423405289649963, 0.19632460176944733, 0.21043340861797333, 0.2030513435602188, 0.18632732331752777, 0.18250615894794464, 0.1815112680196762, 0.18258671462535858, 0.1849408596754074, 0.18643507361412048, 0.18700683116912842, 0.18280525505542755, 0.1629803478717804, 0.14703676104545593, 0.14647680521011353, 0.15082694590091705, 0.15549905598163605, 0.16041146218776703, 0.16486096382141113, 0.16595789790153503, 0.16119986772537231, 0.1567433923482895, 0.15379652380943298, 0.15197362005710602, 0.1506129801273346, 0.15110012888908386, 0.16047197580337524, 0.18035198748111725, 0.18652357161045074, 0.185155987739563, 0.17620863020420074, 0.16039760410785675, 0.14723125100135803, 0.16652950644493103, 0.20469313859939575, 0.20336240530014038, 0.19868189096450806, 0.1977611929178238, 0.20200496912002563, 0.21815887093544006, 0.2568657696247101, 0.2869943678379059, 0.30288922786712646, 0.31333258748054504, 0.3218645453453064, 0.329195111989975, 0.3348405063152313, 0.33659908175468445, 0.3336150050163269, 0.3237967789173126, 0.3116968274116516, 0.2993081510066986, 0.28770604729652405, 0.27784010767936707, 0.2704058587551117, 0.26598963141441345, 0.26635345816612244, 0.2699231803417206, 0.275728315114975, 0.2834925651550293, 0.2927761375904083, 0.3031230866909027, 0.3130643367767334, 0.3226284086704254, 0.33159351348876953, 0.33949387073516846, 0.343456506729126, 0.3458094894886017, 0.3470025062561035, 0.34785783290863037, 0.34768146276474, 0.347506046295166, 0.3483453691005707, 0.350012868642807, 0.35114502906799316, 0.3546266257762909, 0.36092856526374817, 0.3710651099681854, 0.3870697319507599, 0.4171237051486969, 0.43640661239624023, 0.46579328179359436, 0.4885717034339905, 0.5060878992080688, 0.5102097392082214, 0.5043947100639343, 0.4946044385433197, 0.48285815119743347, 0.4716292917728424, 0.46046173572540283, 0.4506991505622864, 0.44226256012916565, 0.43829992413520813, 0.4355945289134979, 0.4343641996383667, 0.43374404311180115, 0.4332443177700043, 0.4323654770851135, 0.4308263659477234, 0.429564505815506, 0.4284166395664215, 0.42797285318374634, 0.4275571405887604, 0.42811545729637146, 0.42887428402900696, 0.4297637641429901, 0.43076229095458984, 0.43209096789360046, 0.4337954521179199, 0.435020387172699, 0.4357718527317047, 0.43579530715942383, 0.43506839871406555, 0.4338045120239258, 0.43214288353919983, 0.4299697279930115, 0.4275849163532257, 0.42482197284698486, 0.42214664816856384, 0.42010781168937683, 0.4182564318180084, 0.41643840074539185, 0.41430747509002686, 0.41208043694496155, 0.40972140431404114, 0.40747740864753723, 0.40540891885757446, 0.40368449687957764, 0.402158260345459, 0.40085673332214355, 0.4000708758831024, 0.3998589813709259, 0.3999972641468048, 0.39955371618270874, 0.39843660593032837, 0.396831214427948, 0.39389491081237793, 0.39786359667778015, 0.4150391221046448, 0.42033302783966064, 0.4223014712333679, 0.4240110218524933, 0.42782318592071533, 0.4320918917655945, 0.43606773018836975, 0.44217610359191895, 0.43883782625198364, 0.4415755867958069, 0.4376975893974304, 0.43742889165878296, 0.4368273913860321, 0.4370368719100952, 0.43618088960647583, 0.43437421321868896, 0.43231940269470215, 0.42892763018608093, 0.425309956073761, 0.42139947414398193, 0.41709524393081665, 0.4121595621109009, 0.4064203202724457, 0.41834303736686707, 0.416270911693573, 0.4278225600719452, 0.4506714940071106, 0.4950086176395416, 0.5690656304359436, 0.6528138518333435, 0.7119153141975403, 0.7384694218635559, 0.7462148070335388, 0.7477899789810181, 0.7360658049583435, 0.7245419025421143, 0.7354589700698853, 0.7576767802238464, 0.7626479864120483, 0.7587021589279175, 0.7466015815734863, 0.7201877236366272, 0.7008348107337952, 0.697297990322113, 0.6967505812644958, 0.6997084021568298, 0.7054917812347412, 0.7123563885688782, 0.7143651247024536, 0.6899464726448059, 0.6467638611793518, 0.6321744322776794, 0.6329705119132996, 0.635217547416687, 0.6374438405036926, 0.6395201086997986, 0.6416642069816589, 0.6437299251556396, 0.6464910507202148, 0.6499373912811279, 0.6544015407562256, 0.6600545644760132, 0.6664091944694519, 0.673315167427063, 0.680773913860321, 0.6884179711341858, 0.6949001550674438, 0.6997283101081848, 0.7019500732421875, 0.7014246582984924, 0.7023122310638428, 0.7021049857139587, 0.7006487846374512, 0.6995046138763428, 0.6996232867240906, 0.7014760375022888, 0.697239339351654, 0.7004110813140869, 0.702086865901947, 0.6976138353347778, 0.6857136487960815, 0.6763134002685547, 0.6305844187736511, 0.49348118901252747, 0.40744176506996155, 0.37273532152175903, 0.36243051290512085, 0.34122276306152344, 0.3196220397949219, 0.3137858211994171, 0.35525602102279663, 0.3499854505062103, 0.3200179934501648, 0.3239414095878601, 0.30373242497444153, 0.25817301869392395, 0.22808508574962616, 0.22437870502471924, 0.2520908713340759, 0.31024226546287537, 0.37631794810295105, 0.4166715443134308, 0.4460408389568329, 0.4508213698863983, 0.45193034410476685, 0.44654735922813416, 0.4360189139842987, 0.4236046075820923, 0.4100525677204132, 0.40921100974082947, 0.5012969970703125, 0.7493336200714111, 0.8753921389579773, 0.9069162607192993, 0.9159196615219116, 0.9198920726776123, 0.9216521978378296, 0.9215696454048157, 0.9084087610244751, 0.8345960974693298, 0.6027092337608337, 0.4830299913883209, 0.4517952501773834, 0.42639824748039246, 0.402677446603775, 0.3819037675857544, 0.3681131601333618, 0.37202200293540955, 0.40030786395072937, 0.4155878722667694, 0.41592881083488464, 0.3960531949996948, 0.36219945549964905, 0.3489786684513092, 0.3513028621673584, 0.361080139875412, 0.377778023481369, 0.3946039080619812, 0.40787893533706665, 0.42779821157455444, 0.4545467793941498, 0.4447706639766693, 0.39588961005210876, 0.3525051772594452, 0.31074830889701843, 0.29615822434425354, 0.2862662076950073, 0.25723880529403687, 0.24419280886650085, 0.2338138371706009, 0.21775804460048676, 0.22034800052642822, 0.26103857159614563, 0.2884727418422699, 0.3098452091217041, 0.3032273054122925, 0.3059444725513458, 0.32014209032058716, 0.3478333353996277, 0.38106569647789, 0.40221330523490906, 0.40824031829833984, 0.4014926850795746, 0.3863372206687927, 0.38122040033340454, 0.37155574560165405, 0.35784292221069336, 0.34654316306114197, 0.3395841419696808, 0.3386147618293762, 0.3370441496372223, 0.3386484384536743, 0.33881112933158875, 0.3346366882324219, 0.3206776976585388, 0.29268622398376465, 0.2771991491317749, 0.27304577827453613, 0.27162766456604004, 0.2753765881061554, 0.28432145714759827, 0.29827114939689636, 0.32172349095344543, 0.3524945080280304, 0.3871808648109436, 0.41126909852027893, 0.417243093252182, 0.4117449223995209, 0.41128963232040405, 0.401666522026062, 0.38868963718414307, 0.37198570370674133, 0.3505553901195526, 0.33240601420402527, 0.32288771867752075, 0.30997270345687866, 0.2977255582809448, 0.29332447052001953, 0.293498694896698, 0.2963493764400482, 0.30133387446403503, 0.3041105568408966, 0.290277361869812, 0.2677886486053467, 0.2577770948410034, 0.2562761902809143, 0.25252628326416016, 0.24424678087234497, 0.2426486313343048, 0.24987095594406128, 0.2632862329483032, 0.28232815861701965, 0.30253687500953674, 0.3195126950740814, 0.33148324489593506, 0.3384116590023041, 0.33755549788475037, 0.33280840516090393, 0.33042699098587036, 0.3748932480812073, 0.4917648732662201, 0.5160813331604004, 0.4988054633140564, 0.4310719668865204, 0.33217769861221313, 0.28538963198661804, 0.2614990770816803, 0.2780975103378296, 0.24774496257305145, 0.1889403611421585, 0.31675177812576294, 0.4390105903148651, 0.4548055827617645, 0.46203190088272095, 0.4675406217575073, 0.47315341234207153, 0.47616907954216003, 0.47677189111709595, 0.47451236844062805, 0.47054538130760193, 0.3759273290634155, 0.2289164811372757, 0.2258148044347763, 0.7114818096160889, 0.8287115097045898, 0.8316436409950256, 0.8204569816589355, 0.8196905255317688, 0.8205057382583618, 0.8238080739974976, 0.8229687809944153, 0.8198818564414978, 0.8165603876113892, 0.8142465949058533, 0.8133364319801331, 0.8122391700744629, 0.8109012246131897, 0.8095102310180664, 0.808272123336792, 0.8068454265594482, 0.8053712844848633, 0.8037323355674744, 0.8019137382507324, 0.800285279750824, 0.7988373637199402, 0.797661304473877, 0.7968091368675232, 0.7961465716362, 0.7953393459320068, 0.7944855093955994, 0.7936034202575684, 0.7929145097732544, 0.7923794984817505, 0.7919147610664368, 0.791674017906189, 0.7914494872093201, 0.7912330031394958, 0.790923535823822, 0.7906383275985718, 0.7903141975402832, 0.7900620102882385, 0.7898173332214355, 0.7895376086235046, 0.7893221378326416, 0.7890682220458984, 0.7887959480285645, 0.7885796427726746, 0.7883809804916382, 0.7883245944976807, 0.788306474685669, 0.7882959246635437, 0.7882596254348755, 0.7883056402206421, 0.7881932258605957, 0.788077175617218, 0.7879786491394043, 0.7877999544143677, 0.7876609563827515, 0.7875095009803772, 0.7874438166618347, 0.7873538732528687, 0.7872996926307678, 0.7872085571289062, 0.7871624231338501, 0.787192165851593, 0.7872037291526794, 0.7872492074966431, 0.7873059511184692, 0.7874475717544556, 0.7874378561973572, 0.7873104214668274, 0.7870944142341614, 0.7839752435684204, 0.7800297737121582, 0.7757970094680786, 0.7710191607475281, 0.7660064101219177, 0.7609667778015137, 0.7569708824157715, 0.7535994648933411, 0.7524033784866333, 0.7538251280784607, 0.7550827860832214, 0.7557358741760254, 0.756140947341919, 0.7564696669578552, 0.7569359540939331, 0.7573265433311462, 0.7575833201408386, 0.7578456401824951, 0.7581156492233276, 0.758443295955658, 0.758817195892334, 0.7592319250106812, 0.7596427202224731, 0.7601388692855835, 0.7703041434288025, 0.7836182713508606, 0.7889745831489563, 0.7919332385063171, 0.7950242757797241, 0.796815037727356, 0.8217127323150635, 0.8320546746253967, 0.8415322303771973, 0.8473635911941528, 0.8247846961021423, 0.8128984570503235, 0.8101935386657715, 0.8095723390579224, 0.8101509809494019, 0.8113471269607544, 0.8101634383201599, 0.8104650974273682, 0.8110522627830505, 0.8144350051879883, 0.8164402842521667, 0.8206057548522949, 0.8562886118888855, 0.8738269209861755, 0.8786287903785706, 0.8773283362388611, 0.8907826542854309, 0.8415317535400391, 0.6836782097816467, 0.7464872002601624, 0.6813958287239075, 0.4352673292160034, 0.3225744962692261, 0.32192060351371765, 0.331108957529068, 0.3193065822124481, 0.3068011403083801, 0.30088067054748535, 0.2936379611492157, 0.2854454517364502, 0.2758990228176117, 0.2649173140525818, 0.24886742234230042, 0.22875338792800903, 0.2132943719625473, 0.2065262347459793, 0.24631187319755554, 0.33695220947265625, 0.4230887293815613, 0.4821300506591797, 0.5076157450675964, 0.5168370604515076, 0.5172243118286133, 0.4899543225765228, 0.47562453150749207, 0.47075456380844116, 0.4621438682079315, 0.4589405953884125, 0.46551084518432617, 0.46151208877563477, 0.4506937563419342, 0.43815362453460693, 0.42885202169418335, 0.4281303584575653, 0.4131162464618683, 0.3731808662414551, 0.32510724663734436, 0.2961379885673523, 0.28076428174972534, 0.2676270306110382, 0.2543831765651703, 0.24307478964328766, 0.2312743067741394, 0.2199443280696869, 0.2201341688632965, 0.2190965861082077, 0.21911528706550598, 0.22251710295677185, 0.2280113250017166, 0.2341434359550476, 0.23863749206066132, 0.2411254495382309, 0.24087609350681305, 0.23723819851875305, 0.23151518404483795, 0.22640828788280487, 0.2328188419342041, 0.24212291836738586, 0.24457113444805145, 0.24268227815628052, 0.23977947235107422, 0.23664414882659912, 0.23252937197685242, 0.22694814205169678, 0.20984971523284912, 0.17408862709999084, 0.14512820541858673, 0.13055863976478577, 0.12319231033325195, 0.118016816675663, 0.11363275349140167, 0.1067420020699501, 0.09810347110033035, 0.08861958980560303, 0.07886651903390884, 0.07224564999341965, 0.06929238140583038, 0.06779390573501587, 0.06721572577953339, 0.06694398820400238, 0.06708866357803345, 0.06720486283302307, 0.06754858046770096, 0.06795982271432877, 0.06851858645677567, 0.06941693276166916, 0.07078617811203003, 0.07418619096279144, 0.08056485652923584, 0.08926555514335632, 0.10017559677362442, 0.11052949726581573, 0.11751542240381241, 0.12094123661518097, 0.12170720845460892, 0.12068083882331848, 0.11925917118787766, 0.11746188253164291, 0.11620484292507172, 0.11458270251750946, 0.11331164836883545, 0.11271895468235016, 0.1132211834192276, 0.1153593361377716, 0.1192721500992775, 0.1263398826122284, 0.13962239027023315, 0.15626700222492218, 0.17053160071372986, 0.1772800087928772, 0.18202905356884003, 0.18630766868591309, 0.19043885171413422, 0.19404597580432892, 0.1964513510465622, 0.1986255645751953, 0.19991280138492584, 0.20111773908138275, 0.20216909050941467, 0.20268788933753967, 0.2026396095752716, 0.20228330790996552, 0.20209142565727234, 0.20242518186569214, 0.20294447243213654, 0.20332267880439758, 0.20326633751392365, 0.20304681360721588, 0.20454460382461548, 0.2059628814458847, 0.207246333360672, 0.20847958326339722, 0.20957955718040466, 0.2105116993188858, 0.21136067807674408, 0.2120910882949829, 0.21219275891780853, 0.21355566382408142, 0.21574978530406952, 0.2172493040561676, 0.2185772806406021, 0.22169195115566254, 0.2289040982723236, 0.23759277164936066, 0.2470225691795349, 0.25800564885139465, 0.27938634157180786, 0.3504878580570221, 0.43925052881240845, 0.46623748540878296, 0.47410160303115845, 0.47902700304985046, 0.4838002026081085, 0.4891646206378937, 0.49296116828918457, 0.49514511227607727, 0.5054426789283752, 0.5494823455810547, 0.5964453816413879, 0.6153377890586853, 0.6196041703224182, 0.6179362535476685, 0.613143265247345, 0.606598436832428, 0.5986391305923462, 0.5929684042930603, 0.6041691899299622, 0.6169330477714539, 0.6299391388893127, 0.6433991193771362, 0.6443952322006226, 0.6459680199623108, 0.6482387185096741, 0.6522223949432373, 0.6559079885482788, 0.657938539981842, 0.6479809880256653, 0.6307756304740906, 0.6104534268379211, 0.577149510383606, 0.5690067410469055, 0.5660837888717651, 0.565207302570343, 0.5652065277099609, 0.568598210811615, 0.5722613334655762, 0.5739132761955261, 0.5728585124015808, 0.568418025970459, 0.562080979347229, 0.5549930334091187, 0.5454131364822388, 0.5324710011482239, 0.5240654945373535, 0.5496490597724915, 0.6018636226654053, 0.5810854434967041, 0.47971734404563904, 0.4207703471183777, 0.38265830278396606, 0.3490408658981323, 0.31730350852012634, 0.29612258076667786, 0.28756222128868103, 0.2816219925880432, 0.28058287501335144, 0.2812134623527527, 0.28294119238853455, 0.28504040837287903, 0.28593114018440247, 0.2863444685935974, 0.28692272305488586, 0.2871879041194916, 0.28781500458717346, 0.2890573740005493, 0.2900383174419403, 0.2914460599422455, 0.2935333847999573, 0.29554831981658936, 0.29715222120285034, 0.2982760965824127, 0.30025482177734375, 0.3021503984928131, 0.3051455616950989, 0.30874353647232056, 0.31474199891090393, 0.3268537223339081, 0.36786365509033203, 0.4627089202404022, 0.5215555429458618, 0.5396925210952759, 0.5450197458267212, 0.5478336215019226, 0.5493127107620239, 0.5514838099479675, 0.5519218444824219, 0.5526736378669739, 0.5533916354179382, 0.5539312362670898, 0.5543447136878967, 0.5568701028823853, 0.5612830519676208, 0.5670982599258423, 0.5721688270568848, 0.5745541453361511, 0.5739579796791077, 0.5675104260444641, 0.5533720850944519, 0.5341989994049072, 0.5095142722129822, 0.48495930433273315, 0.46104466915130615, 0.4319761097431183, 0.40494221448898315, 0.3860587775707245, 0.3778704106807709, 0.37466397881507874, 0.3721409738063812, 0.3681146204471588, 0.3602730631828308, 0.3480367660522461, 0.3341062366962433, 0.3194587528705597, 0.3060910105705261, 0.29174429178237915, 0.2823503017425537, 0.2753966748714447, 0.27011561393737793, 0.2651955485343933, 0.2628137767314911, 0.2626025080680847, 0.26064470410346985, 0.2578813433647156, 0.252346396446228, 0.24572807550430298, 0.23857146501541138, 0.23797550797462463, 0.24054032564163208, 0.24680395424365997, 0.2555985748767853, 0.26935014128685, 0.28767356276512146, 0.3030034899711609, 0.315208375453949, 0.3260808289051056, 0.33675897121429443, 0.34160321950912476, 0.3452316224575043, 0.3508676290512085, 0.360548198223114, 0.37615302205085754, 0.4009447991847992, 0.43380263447761536, 0.46690043807029724, 0.49551013112068176, 0.525740921497345, 0.5405975580215454, 0.5340168476104736, 0.5128492116928101, 0.48340776562690735, 0.4348047077655792, 0.38704508543014526, 0.34632208943367004, 0.3230067789554596, 0.296634703874588, 0.2679699957370758, 0.25491416454315186, 0.2527827024459839, 0.2564413547515869, 0.257213830947876, 0.25724533200263977, 0.2575424909591675, 0.2585282325744629, 0.26009225845336914, 0.26231148838996887, 0.26362887024879456, 0.26697787642478943, 0.2613863945007324, 0.25200948119163513, 0.24360787868499756, 0.23735830187797546, 0.2354823648929596, 0.23732265830039978, 0.23935577273368835, 0.24310117959976196, 0.24930791556835175, 0.25714245438575745, 0.2677850127220154, 0.2888260781764984, 0.32859671115875244, 0.36646339297294617, 0.3927651047706604, 0.4151379466056824, 0.4373268187046051, 0.45975032448768616, 0.48510822653770447, 0.5077189207077026, 0.5224044322967529, 0.521964967250824, 0.505140483379364, 0.48052963614463806, 0.4562891125679016, 0.43574362993240356, 0.4182462692260742, 0.40477338433265686, 0.3986833095550537, 0.39749306440353394, 0.3970564305782318, 0.3976092040538788, 0.39865580201148987, 0.3976714015007019, 0.3928508162498474, 0.38378092646598816, 0.37270888686180115, 0.3580404222011566, 0.3371085524559021, 0.31485751271247864, 0.30024951696395874, 0.29271066188812256, 0.2900981903076172, 0.29139453172683716, 0.2966834306716919, 0.30455735325813293, 0.3120708167552948, 0.3196665644645691, 0.32656899094581604, 0.33407121896743774, 0.3455364406108856, 0.3639022707939148, 0.3888847529888153, 0.4128338098526001, 0.42735305428504944, 0.43311017751693726, 0.43221578001976013, 0.42837658524513245, 0.42518165707588196, 0.4251408874988556, 0.428741455078125, 0.4330652952194214, 0.4322699308395386, 0.4249851107597351, 0.4168933629989624, 0.4099482297897339, 0.4090252220630646, 0.41654905676841736, 0.43348458409309387, 0.45380744338035583, 0.46885183453559875, 0.4794617295265198, 0.4814580976963043, 0.4777858257293701, 0.4746209383010864, 0.47203123569488525, 0.4659040570259094, 0.458620548248291, 0.4525143504142761, 0.44903212785720825, 0.44563886523246765, 0.4431997239589691, 0.43927261233329773, 0.43538880348205566, 0.4314746558666229, 0.4276071786880493, 0.4280317723751068, 0.44428277015686035, 0.4817711412906647, 0.5222610235214233, 0.5554243326187134, 0.5713037252426147, 0.5766265988349915, 0.5782504677772522, 0.5780984163284302, 0.576747715473175, 0.573580801486969, 0.5670415759086609, 0.5548388361930847, 0.5434196591377258, 0.5384100675582886, 0.5360891819000244, 0.5394152402877808, 0.5410007238388062, 0.5409413576126099, 0.5392448902130127, 0.5370215177536011, 0.5380154848098755, 0.5392512083053589, 0.5408018827438354, 0.5419780015945435, 0.5429530143737793, 0.5441544055938721, 0.5457683205604553, 0.5477319359779358, 0.5499486923217773, 0.5524625778198242, 0.5543591976165771, 0.5560727715492249, 0.5574654936790466, 0.5588913559913635, 0.5604015588760376, 0.56252121925354, 0.5647113919258118, 0.5670894980430603, 0.5697729587554932, 0.5723174810409546, 0.5748515725135803, 0.5766337513923645, 0.5780349373817444, 0.5792657732963562, 0.5806249976158142, 0.5824896097183228, 0.584693431854248, 0.5871216654777527, 0.5889943242073059, 0.5900974273681641, 0.5908674001693726, 0.5917921662330627, 0.5919802188873291, 0.5916328430175781, 0.5906947255134583, 0.5891983509063721, 0.587538480758667, 0.585970938205719, 0.5846177935600281, 0.5834848880767822, 0.5828032493591309, 0.5835015773773193, 0.5848703980445862, 0.587395429611206, 0.5901973247528076, 0.5924529433250427, 0.5936620831489563, 0.593082070350647, 0.5916547775268555, 0.5853071212768555, 0.5634533762931824, 0.5169727802276611, 0.47210797667503357, 0.4437638223171234, 0.42778539657592773, 0.4199492931365967, 0.4201057553291321, 0.4282102882862091, 0.4454001784324646, 0.47127020359039307, 0.5023020505905151, 0.5259444117546082, 0.5429449677467346, 0.5535922050476074, 0.5594722032546997, 0.562225878238678, 0.5619516968727112, 0.5526289343833923, 0.5176810026168823, 0.4100545048713684, 0.3341977894306183, 0.32196739315986633, 0.3294649124145508, 0.3343003988265991, 0.3387022018432617, 0.3441345691680908, 0.35157260298728943, 0.3748720586299896, 0.4374636113643646, 0.45016905665397644, 0.4514392912387848, 0.45122167468070984, 0.4504968523979187, 0.4492146372795105, 0.4472882151603699, 0.44441816210746765, 0.44051671028137207, 0.4348975419998169, 0.42589813470840454, 0.41071373224258423, 0.38568902015686035, 0.3554566502571106, 0.3304023742675781, 0.3181288242340088, 0.3114691972732544, 0.3105117082595825, 0.31541645526885986, 0.3266012966632843, 0.3542766571044922, 0.389547735452652, 0.4197419285774231, 0.439491331577301, 0.45109593868255615, 0.45719054341316223, 0.4610588550567627, 0.4636627733707428, 0.4656032621860504, 0.46756115555763245, 0.4694819748401642, 0.4713917076587677, 0.4735535979270935, 0.4761276841163635, 0.47912418842315674, 0.48241421580314636, 0.4860960841178894, 0.4898015558719635, 0.49300485849380493, 0.4959565997123718, 0.49860724806785583, 0.5012292265892029, 0.5038803219795227, 0.5063875913619995, 0.5087131261825562, 0.5110026597976685, 0.5130370855331421, 0.5150231719017029, 0.5170469284057617, 0.5190192461013794, 0.5214369297027588, 0.5237167477607727, 0.5256544947624207, 0.5273202657699585, 0.5288535952568054, 0.5303645730018616, 0.5318573713302612, 0.5331648588180542, 0.5339839458465576, 0.5344078540802002, 0.535675585269928, 0.5372725129127502, 0.5386715531349182, 0.5406087040901184, 0.5424396991729736, 0.5437323451042175, 0.5446023941040039, 0.5442913174629211, 0.5416610836982727, 0.5366923213005066, 0.5284608006477356, 0.5202268362045288, 0.5134680271148682, 0.5081031322479248, 0.5025138258934021, 0.49263525009155273, 0.4734659194946289, 0.45270243287086487, 0.4458872079849243, 0.4450421631336212, 0.44551244378089905, 0.44629308581352234, 0.4469383955001831, 0.4475419521331787, 0.4481372535228729, 0.44813698530197144, 0.44606947898864746, 0.4452177584171295, 0.44479745626449585, 0.4456007182598114, 0.4476132094860077, 0.45133933424949646, 0.45650410652160645, 0.4613094627857208, 0.46612244844436646, 0.4712955355644226, 0.4741448760032654, 0.4710877239704132, 0.46579477190971375, 0.4982753396034241, 0.5248370170593262, 0.5727896690368652, 0.6228261590003967, 0.6250268816947937, 0.5912591814994812, 0.5438992977142334, 0.49347203969955444, 0.4557924270629883, 0.3818156123161316, 0.2641185522079468, 0.1972046196460724, 0.2135852724313736, 0.31094101071357727, 0.3204168677330017, 0.31297552585601807, 0.2904752194881439, 0.26892563700675964, 0.26603129506111145, 0.3215519189834595, 0.44065213203430176, 0.49107763171195984, 0.4856945872306824, 0.48522496223449707, 0.48799335956573486, 0.4706287980079651, 0.4202650189399719, 0.33066537976264954, 0.17877547442913055, 0.13046413660049438, 0.11440840363502502, 0.09837865084409714, 0.1790793091058731, 0.5822323560714722, 0.6357958912849426, 0.6629869937896729, 0.6735561490058899, 0.673064112663269, 0.6881954073905945, 0.7197437286376953, 0.7267672419548035, 0.7265245318412781, 0.7548226118087769, 0.7824029326438904, 0.7816598415374756, 0.7723292708396912, 0.7690029144287109, 0.7694109082221985, 0.7884141802787781, 0.6098942756652832, 0.4317981004714966, 0.5157226324081421, 0.572486162185669, 0.5662127733230591, 0.5382850170135498, 0.39529532194137573, 0.38876479864120483, 0.37988731265068054, 0.3856166899204254, 0.39711883664131165, 0.4053974747657776, 0.4104309678077698, 0.41507452726364136, 0.4213346540927887, 0.43153050541877747, 0.44384169578552246, 0.4514920711517334, 0.4541829228401184, 0.4539950489997864, 0.4507664144039154, 0.4468112289905548, 0.42883947491645813, 0.41632136702537537, 0.40457168221473694, 0.3930038809776306, 0.3826853334903717, 0.3754173815250397, 0.372945636510849, 0.3797193467617035, 0.3899243474006653, 0.40033698081970215, 0.4234561026096344, 0.42543530464172363, 0.4235095679759979, 0.42042335867881775, 0.41719046235084534, 0.41572973132133484, 0.41581815481185913, 0.41690593957901, 0.4200965166091919, 0.424248069524765, 0.42818683385849, 0.4317437410354614, 0.4346965551376343, 0.4373302459716797, 0.4395548105239868, 0.4409704804420471, 0.4416950047016144, 0.44166338443756104, 0.4402295649051666, 0.4378989636898041, 0.43495267629623413, 0.4316999614238739, 0.42830854654312134, 0.4251940846443176, 0.42172035574913025, 0.41822507977485657, 0.41563382744789124, 0.4131762385368347, 0.41117504239082336, 0.4099172055721283, 0.4091137647628784, 0.4084172546863556, 0.4080891013145447, 0.40793949365615845, 0.4080886244773865, 0.4084669053554535, 0.40897655487060547, 0.40998196601867676, 0.41107338666915894, 0.4116104543209076, 0.41205817461013794, 0.41260531544685364, 0.41287973523139954, 0.41296446323394775, 0.41277238726615906, 0.41245099902153015, 0.4119495749473572, 0.41123029589653015, 0.41037285327911377, 0.4094681143760681, 0.4080544114112854, 0.40652790665626526, 0.405295193195343, 0.4039832055568695, 0.4030962288379669, 0.40257275104522705, 0.40250760316848755, 0.40252310037612915, 0.40249741077423096, 0.4027308523654938, 0.4033350646495819, 0.40415823459625244, 0.40481996536254883, 0.40573254227638245, 0.40653470158576965, 0.40698930621147156, 0.40691056847572327, 0.40671518445014954, 0.40664270520210266, 0.40649688243865967, 0.4063687026500702, 0.40626418590545654, 0.4062591791152954, 0.40610408782958984, 0.4057803452014923, 0.40544381737709045, 0.40514445304870605, 0.4046689569950104, 0.40407368540763855, 0.4033198356628418, 0.4024384021759033, 0.4012972116470337, 0.3998885750770569, 0.39798304438591003, 0.3955965042114258, 0.3927087187767029, 0.3893691897392273, 0.3858777582645416, 0.38230380415916443, 0.37838754057884216, 0.37422484159469604, 0.37535011768341064, 0.37399643659591675, 0.36910900473594666, 0.3602457642555237, 0.3480967581272125, 0.33227238059043884, 0.31508374214172363, 0.3042336702346802, 0.29477497935295105, 0.2859176993370056, 0.2868599593639374, 0.28753936290740967, 0.2881633937358856, 0.28866642713546753, 0.288878858089447, 0.2888872027397156, 0.28826865553855896, 0.28675737977027893, 0.28318217396736145, 0.2789502441883087, 0.27353015542030334, 0.26738348603248596, 0.26034772396087646, 0.2532893121242523, 0.24621552228927612, 0.23835866153240204, 0.23049546778202057, 0.2242032140493393, 0.22035300731658936, 0.21835577487945557, 0.21787002682685852, 0.218408465385437, 0.2191418707370758, 0.21962527930736542, 0.2197122424840927, 0.2195102721452713, 0.21898400783538818, 0.21761971712112427, 0.2158053070306778, 0.21312233805656433, 0.20862415432929993, 0.20306675136089325, 0.19714350998401642, 0.19116248190402985, 0.1853860318660736, 0.17914775013923645, 0.17306607961654663, 0.16886934638023376, 0.16667918860912323, 0.16789378225803375, 0.17038851976394653, 0.17322459816932678, 0.17729586362838745, 0.1831556111574173, 0.19040004909038544, 0.19854237139225006, 0.20884722471237183, 0.2214658260345459, 0.23368465900421143, 0.24640297889709473, 0.25917837023735046, 0.2684573531150818, 0.27480995655059814, 0.2798970341682434, 0.2827918827533722, 0.2814129889011383, 0.2765299379825592, 0.269179105758667, 0.25895997881889343, 0.24496577680110931, 0.2303142547607422, 0.22086703777313232, 0.21692895889282227, 0.21585948765277863, 0.2165544629096985, 0.21853800117969513, 0.2276318222284317, 0.23769336938858032, 0.2488616555929184, 0.2599506378173828, 0.27042821049690247, 0.2790694832801819, 0.28565341234207153, 0.2898712158203125, 0.28949934244155884, 0.2839299738407135, 0.27485430240631104, 0.2628784775733948, 0.24751128256320953, 0.23033469915390015, 0.2214476764202118, 0.21674802899360657, 0.21612130105495453, 0.21672172844409943, 0.21693828701972961, 0.21762527525424957, 0.21829453110694885, 0.21880817413330078, 0.21935543417930603, 0.2197522073984146, 0.21971726417541504, 0.21956966817378998, 0.21906599402427673, 0.21810321509838104, 0.21706664562225342, 0.2171909064054489, 0.21678750216960907, 0.21571767330169678, 0.21445631980895996, 0.21318508684635162, 0.212049201130867, 0.21125656366348267, 0.21137435734272003, 0.21204300224781036, 0.2129024714231491, 0.21393738687038422, 0.21475368738174438, 0.21492138504981995, 0.21415108442306519, 0.21173527836799622, 0.2071685642004013, 0.19994041323661804, 0.19086995720863342, 0.1812794953584671, 0.17271119356155396, 0.16674266755580902, 0.16449613869190216, 0.1654512584209442, 0.16900743544101715, 0.17349494993686676, 0.17807844281196594, 0.18245716392993927, 0.18565578758716583, 0.18804575502872467, 0.1895597279071808, 0.19027362763881683, 0.1900673359632492, 0.1891341358423233, 0.1869497001171112, 0.18020184338092804, 0.15788611769676208, 0.12913666665554047, 0.1193774864077568, 0.11497770994901657, 0.11196918785572052, 0.10975176841020584, 0.10820817202329636, 0.10697115957736969, 0.10575803369283676, 0.10438407212495804, 0.10289160907268524, 0.101166732609272, 0.09906908869743347, 0.09649095684289932, 0.0933830663561821, 0.08940210193395615, 0.08530748635530472, 0.08142410218715668, 0.07779387384653091, 0.07416626811027527, 0.07017908245325089, 0.06396225094795227, 0.054022546857595444, 0.04570632800459862, 0.04189924895763397, 0.04106158763170242, 0.04185015335679054, 0.043388623744249344, 0.04513876512646675, 0.04678702726960182, 0.04834907874464989, 0.04991557076573372, 0.05130230262875557, 0.05240928754210472, 0.053355854004621506, 0.05300773307681084, 0.0519438162446022, 0.05087531358003616, 0.050040602684020996, 0.049748703837394714, 0.05054334178566933, 0.05311248451471329, 0.061059243977069855, 0.06220885366201401, 0.055674951523542404, 0.05210195854306221, 0.049532800912857056, 0.04773261398077011, 0.0472901277244091, 0.04807676747441292, 0.04954637587070465, 0.05027017742395401, 0.05128025636076927, 0.05170406028628349, 0.05128141865134239, 0.04979037865996361, 0.04541401192545891, 0.04131252318620682, 0.03915662318468094, 0.03725443407893181, 0.03570067137479782, 0.0343913659453392, 0.033185843378305435, 0.032538626343011856, 0.03219078853726387, 0.03203238174319267, 0.032087575644254684, 0.03328849747776985, 0.0348791740834713, 0.035653743892908096, 0.035850267857313156, 0.03606081381440163, 0.036187585443258286, 0.03618608042597771, 0.03629397600889206, 0.037152644246816635, 0.038256339728832245, 0.03857891634106636, 0.038563091307878494, 0.03898090124130249, 0.03970510885119438, 0.04164132848381996, 0.04338810592889786, 0.04682232066988945, 0.05404967442154884, 0.05999140068888664, 0.06223924830555916, 0.06289054453372955, 0.06279662251472473, 0.0619523786008358, 0.05988050997257233, 0.05669352039694786, 0.054309163242578506, 0.05273875221610069, 0.051989998668432236, 0.05191429704427719, 0.05212518572807312, 0.0526060089468956, 0.05320734530687332, 0.053816087543964386, 0.05450335144996643, 0.055252593010663986, 0.05595523491501808, 0.05662553384900093, 0.05734517425298691, 0.05841546133160591, 0.0600128248333931, 0.06259369105100632, 0.06491304934024811, 0.06708718091249466, 0.06939896196126938, 0.0716714859008789, 0.07373566180467606, 0.07538941502571106, 0.07640071958303452, 0.07621175050735474, 0.07449203729629517, 0.07122204452753067, 0.0671062245965004, 0.06262665241956711, 0.058669932186603546, 0.055643148720264435, 0.05290600284934044, 0.05274953320622444, 0.058173902332782745, 0.06887102872133255, 0.07584107667207718, 0.07694698125123978, 0.07615543901920319, 0.07531585544347763, 0.07405412197113037, 0.07188297808170319, 0.06863785535097122, 0.0644739419221878, 0.05942719802260399, 0.0536268949508667, 0.04872709512710571, 0.046701837331056595, 0.0463327057659626, 0.04667647182941437, 0.0474030002951622, 0.04836636781692505, 0.04932387173175812, 0.05028235539793968, 0.05147936940193176, 0.053072940558195114, 0.055159151554107666, 0.057789262384176254, 0.06147784739732742, 0.06707093864679337, 0.07438498735427856, 0.08145873993635178, 0.08823376893997192, 0.09407678246498108, 0.09778325259685516, 0.09983999282121658, 0.10079758614301682, 0.10122796893119812, 0.10167457908391953, 0.10260237008333206, 0.10330043733119965, 0.1037760078907013, 0.10453395545482635, 0.10565514862537384, 0.10754285007715225, 0.1104273721575737, 0.1136946901679039, 0.11707910150289536, 0.11998307704925537, 0.12188931554555893, 0.12195614725351334, 0.12171339243650436, 0.12069223076105118, 0.11871089786291122, 0.11597742140293121, 0.11280955374240875, 0.10927562415599823, 0.105535589158535, 0.10255654901266098, 0.1016436368227005, 0.10352890938520432, 0.10645955801010132, 0.1091618537902832, 0.11068906635046005, 0.11067917943000793, 0.10912135243415833, 0.10609198361635208, 0.10189063847064972, 0.09594015777111053, 0.0905103012919426, 0.08651731163263321, 0.08402401953935623, 0.08222325891256332, 0.08071936666965485, 0.07949177175760269, 0.07852745801210403, 0.07790889590978622, 0.0773836001753807, 0.07710310071706772, 0.0770229622721672, 0.07723336666822433, 0.07783238589763641, 0.07913118600845337, 0.08085420727729797, 0.08196414262056351, 0.08132192492485046, 0.07787658274173737, 0.07140161842107773, 0.0663706511259079, 0.062419451773166656, 0.059746839106082916, 0.05778265744447708, 0.056130729615688324, 0.05496358871459961, 0.055130913853645325, 0.06242341175675392, 0.10918980091810226, 0.15344519913196564, 0.16061952710151672, 0.15836328268051147, 0.15132178366184235, 0.14380894601345062, 0.1366870105266571, 0.12928354740142822, 0.12189638614654541, 0.11466017365455627, 0.10612397640943527, 0.09711813181638718, 0.0898372232913971, 0.08477364480495453, 0.08264100551605225, 0.08315665274858475, 0.08442028611898422, 0.08471211045980453, 0.08338844031095505, 0.07817226648330688, 0.07064559310674667, 0.07184754312038422, 0.06691637635231018, 0.06185270845890045, 0.06281914561986923, 0.06366145610809326, 0.06219543516635895, 0.06106514483690262, 0.0604599267244339, 0.06088191270828247, 0.06393080949783325, 0.06827535480260849, 0.07275647670030594, 0.0762626901268959, 0.07737737149000168, 0.07579664140939713, 0.07528107613325119, 0.0718894675374031, 0.06466084718704224, 0.05928923934698105, 0.05990742892026901, 0.0604940690100193, 0.06030618026852608, 0.05977458134293556, 0.05891566351056099, 0.05811738967895508, 0.058096908032894135, 0.05863809958100319, 0.059970106929540634, 0.0631270706653595, 0.06978695094585419, 0.07771991193294525, 0.08356769382953644, 0.08796464651823044, 0.09211461991071701, 0.09476464986801147, 0.09636400640010834, 0.09649275988340378, 0.09343808144330978, 0.08872833102941513, 0.08558277040719986, 0.08424413204193115, 0.08268220722675323, 0.08337278664112091, 0.11516902595758438, 0.1310909390449524, 0.13184960186481476, 0.13157372176647186, 0.13120408356189728, 0.13019169867038727, 0.1279936283826828, 0.12689022719860077, 0.12678267061710358, 0.12748031318187714, 0.1288376897573471, 0.130569189786911, 0.1314793825149536, 0.13159336149692535, 0.13023917376995087, 0.1264217048883438, 0.11689271032810211, 0.10147673636674881, 0.09177979826927185, 0.09361016750335693, 0.10112525522708893, 0.11182677745819092, 0.14605209231376648, 0.20043520629405975, 0.21238400042057037, 0.2617078125476837, 0.35454776883125305, 0.3994976282119751, 0.3446570038795471, 0.2055310159921646, 0.14628984034061432, 0.13628800213336945, 0.1401204764842987, 0.16200408339500427, 0.1681167632341385, 0.15629754960536957, 0.14422950148582458, 0.14044548571109772, 0.13601566851139069, 0.14223843812942505, 0.15092456340789795, 0.16605955362319946, 0.20176415145397186, 0.25141704082489014, 0.32697540521621704, 0.4301184117794037, 0.4808084964752197, 0.5017778277397156, 0.5135701298713684, 0.5145314931869507, 0.5075802803039551, 0.49989768862724304, 0.48050278425216675, 0.4431994557380676, 0.38401731848716736, 0.3405245244503021, 0.3416832983493805, 0.4119398593902588, 0.5133841037750244, 0.5645118951797485, 0.5045598745346069, 0.5288627743721008, 0.3218155801296234, 0.2302989959716797, 0.4344255030155182, 0.7285064458847046, 0.7762144804000854, 0.7713778614997864, 0.7681813836097717, 0.8004294633865356, 0.8108249306678772, 0.8324314951896667, 0.8434658050537109, 0.8568442463874817, 0.8721321821212769, 0.8721705675125122, 0.8682597279548645, 0.8299208879470825, 0.7711085677146912, 0.767379641532898, 0.7698841094970703, 0.769752562046051, 0.763317346572876, 0.7579581141471863, 0.7839291095733643, 0.7873240113258362, 0.7681480050086975, 0.7244499325752258, 0.6866621971130371, 0.6651259064674377, 0.6510722041130066, 0.6549330949783325, 0.6602818965911865, 0.6598222255706787, 0.6517671346664429, 0.650039792060852, 0.6559236645698547, 0.6592051982879639, 0.6506685018539429, 0.6168802380561829, 0.5595046877861023, 0.49175411462783813, 0.44195759296417236, 0.42951101064682007, 0.4437415897846222, 0.477557897567749, 0.5381330251693726, 0.5902367830276489, 0.6253557205200195, 0.6379324197769165, 0.6284759640693665, 0.5923028588294983, 0.5408245921134949, 0.5171059370040894, 0.539603590965271, 0.5627285242080688, 0.5808658003807068, 0.6075363755226135, 0.6298401355743408, 0.6317930221557617, 0.6174987554550171, 0.5987055897712708, 0.5918819308280945, 0.5891700387001038, 0.5844988226890564, 0.5779610872268677, 0.5720731616020203, 0.5745143294334412, 0.5831024646759033, 0.5912084579467773, 0.6115229725837708, 0.6376376152038574, 0.6522095203399658, 0.6523842215538025, 0.647524356842041, 0.6507502198219299, 0.6570414900779724, 0.6718911528587341, 0.6865994334220886, 0.6969284415245056, 0.697299063205719, 0.6954243183135986, 0.6948702335357666, 0.7209745049476624, 0.7800792455673218, 0.7991260290145874, 0.810397744178772, 0.8245025873184204, 0.8410657644271851, 0.8617941737174988, 0.8743642568588257, 0.8823459148406982, 0.8882784843444824, 0.8934458494186401, 0.9005274772644043, 0.9043695330619812, 0.9030187726020813, 0.9023922085762024, 0.9019253253936768, 0.8987635970115662, 0.8912143111228943, 0.8801724910736084, 0.8630711436271667, 0.8306843042373657, 0.8052686452865601, 0.788735032081604, 0.7807321548461914, 0.7770037055015564, 0.7766363024711609, 0.7795044779777527, 0.7848122715950012, 0.7921345233917236, 0.8008511066436768, 0.8111149072647095, 0.8194678425788879, 0.8289415240287781, 0.8371020555496216, 0.8454466462135315, 0.8557392358779907, 0.8665649890899658, 0.875317394733429, 0.881281852722168, 0.8852805495262146, 0.8879693150520325, 0.8900601863861084, 0.8922179341316223, 0.8940929174423218, 0.8956394791603088, 0.8970932960510254, 0.8994333148002625, 0.903672456741333, 0.9053042531013489, 0.9066951870918274, 0.9081164598464966, 0.9081445932388306, 0.906916081905365, 0.9049760699272156, 0.9010642170906067, 0.8919251561164856, 0.8768904805183411, 0.8603604435920715, 0.8481695652008057, 0.8365556597709656, 0.8205773234367371, 0.8014563322067261, 0.7908183336257935, 0.7862022519111633, 0.7854243516921997, 0.7860584259033203, 0.7862964272499084, 0.7825444340705872, 0.7778915762901306, 0.77655428647995, 0.777066171169281, 0.7788906693458557, 0.7795300483703613, 0.7814121842384338, 0.7832390666007996, 0.7997704148292542, 0.8242200016975403, 0.8522929549217224, 0.8654693961143494, 0.8754672408103943, 0.8885821104049683, 0.9003957509994507, 0.9060198664665222, 0.9081018567085266, 0.9048420786857605, 0.8940593004226685, 0.8829532861709595, 0.8670042753219604, 0.8534836173057556, 0.8508008718490601, 0.8541278839111328, 0.8563109636306763, 0.8583913445472717, 0.8605638146400452, 0.8618593215942383, 0.8606720566749573, 0.8577010035514832, 0.8546551465988159, 0.8530465364456177, 0.8525724411010742, 0.8506942391395569, 0.84663987159729, 0.8404611349105835, 0.8307456374168396, 0.8226235508918762, 0.8212199211120605, 0.8224038481712341, 0.8248305320739746, 0.8278083801269531, 0.8309766054153442, 0.8356060981750488, 0.8406308889389038, 0.8453148007392883, 0.8488261103630066, 0.8516504764556885, 0.8521438241004944, 0.8516139984130859, 0.8507993221282959, 0.8502165675163269, 0.8497561812400818, 0.8478704690933228, 0.8454248309135437, 0.8421707153320312, 0.839546263217926, 0.8372133374214172, 0.8352453708648682, 0.8379795551300049, 0.8412184715270996, 0.8457356095314026, 0.8482034802436829, 0.849907398223877, 0.8511630892753601, 0.853451132774353, 0.8571423888206482, 0.8606315851211548, 0.8633845448493958, 0.8617390990257263, 0.8589393496513367, 0.8538840413093567, 0.8478944301605225, 0.8426617980003357, 0.8402067422866821, 0.839691698551178, 0.8399471640586853, 0.8409069180488586, 0.8426501154899597, 0.8449185490608215, 0.8476462960243225, 0.8509101271629333, 0.8544475436210632, 0.8580836653709412, 0.8599876761436462, 0.8566662073135376, 0.8519198894500732, 0.8518854379653931, 0.8562232851982117, 0.8615169525146484, 0.8658785223960876, 0.8690347075462341, 0.871982991695404, 0.8745973706245422, 0.8763527274131775, 0.8763988018035889, 0.8756617903709412, 0.8742039203643799, 0.8724106550216675, 0.869834840297699, 0.8676921129226685, 0.8663800358772278, 0.8641149997711182, 0.8622726202011108, 0.860971212387085, 0.8602558970451355, 0.8604598045349121, 0.8618940711021423, 0.8652120232582092, 0.8697357177734375, 0.8781614899635315, 0.8871903419494629, 0.8955905437469482, 0.9021109342575073, 0.9081581830978394, 0.9175751805305481, 0.9270774126052856, 0.9319584369659424, 0.9341844320297241, 0.9349830150604248, 0.9345744848251343, 0.9328620433807373, 0.928425669670105, 0.9199841022491455, 0.9065527319908142, 0.8898725509643555, 0.8735209107398987, 0.8521739840507507, 0.8137288093566895, 0.7953513264656067, 0.7801507115364075, 0.7496083378791809, 0.7013856768608093, 0.6975064873695374, 0.7145268321037292, 0.7076899409294128, 0.6567718982696533, 0.5654304623603821, 0.4442749619483948, 0.2737739384174347, 0.222354918718338, 0.21077083051204681, 0.2152475118637085, 0.22243335843086243, 0.20195220410823822, 0.21588626503944397, 0.2684697210788727, 0.36080244183540344, 0.41296976804733276, 0.4157158136367798, 0.39905259013175964, 0.4301345646381378, 0.5022314786911011, 0.6023021936416626, 0.5926722288131714, 0.6820141673088074, 0.7225471138954163, 0.7600610852241516, 0.7755199670791626, 0.751781702041626, 0.7366536259651184, 0.6556825041770935, 0.5127708315849304, 0.3428705036640167, 0.15716570615768433, 0.15428505837917328, 0.15944626927375793, 0.15401776134967804, 0.18134400248527527, 0.310364305973053, 0.49413594603538513, 0.7664228081703186, 0.7938638925552368, 0.7952286005020142, 0.8053282499313354, 0.804686963558197, 0.7937805652618408, 0.7958454489707947, 0.8033945560455322, 0.8060302734375, 0.8077925443649292, 0.811945378780365, 0.8195562958717346, 0.8202841281890869, 0.8132677674293518, 0.800121009349823, 0.7910990715026855, 0.7815175652503967, 0.7711909413337708, 0.7718008160591125, 0.7673569917678833, 0.7592116594314575, 0.7557879090309143, 0.7542639374732971, 0.7514513731002808, 0.7489071488380432, 0.7437852621078491, 0.7375267148017883, 0.7308076620101929, 0.7252157330513, 0.7218241691589355, 0.7198347449302673, 0.7178992033004761, 0.7157697677612305, 0.7150721549987793, 0.7142568230628967, 0.71579909324646, 0.7181670665740967, 0.7204172611236572, 0.7206757664680481, 0.7185545563697815, 0.715086042881012, 0.7117564082145691, 0.7089612483978271, 0.7063544988632202, 0.7036526203155518, 0.7008596062660217, 0.6984089612960815, 0.696979820728302, 0.6970122456550598, 0.697672963142395, 0.6975632309913635, 0.6954631209373474, 0.6904262900352478, 0.6823089718818665, 0.6711583137512207, 0.6574422717094421, 0.642676830291748, 0.6335316300392151, 0.6366091966629028, 0.6512887477874756, 0.6715663075447083, 0.6880602240562439, 0.6985246539115906, 0.7129156589508057, 0.7238079905509949, 0.7263158559799194, 0.7282713651657104, 0.73163902759552, 0.7318997383117676, 0.7286325693130493, 0.7206577658653259, 0.7141279578208923, 0.708319902420044, 0.7081699371337891, 0.726336658000946, 0.7593051791191101, 0.7963988780975342, 0.8247647285461426, 0.8409280776977539, 0.8509932160377502, 0.8584282398223877, 0.867423951625824, 0.8795391321182251, 0.8915714621543884, 0.9050731658935547, 0.9142526388168335, 0.9179956912994385, 0.9202367663383484, 0.9223034381866455, 0.9233863949775696, 0.9236328601837158, 0.9236232042312622, 0.9235725402832031, 0.9247586727142334, 0.9295394420623779, 0.932751476764679, 0.9334377646446228, 0.9331293702125549, 0.9323724508285522, 0.9314349889755249, 0.9304761290550232, 0.9290924072265625, 0.9279424548149109, 0.9273964762687683, 0.9272810220718384, 0.9277304410934448, 0.9290477633476257, 0.9311755895614624, 0.9357723593711853, 0.9371790289878845, 0.9352020621299744, 0.933709979057312, 0.9326558709144592, 0.9318019151687622, 0.9311037659645081, 0.9305373430252075, 0.9299995303153992, 0.9294986128807068, 0.9291390180587769, 0.9285699129104614, 0.9285369515419006, 0.9295284152030945, 0.930803656578064, 0.9320650696754456, 0.933276891708374, 0.9342870116233826, 0.9350435733795166, 0.9355200529098511, 0.9356544613838196, 0.9353466629981995, 0.934281051158905, 0.9325498938560486, 0.9304460883140564, 0.9285309910774231, 0.9263890981674194, 0.9243332743644714, 0.9224568605422974, 0.9221104979515076, 0.9223412871360779, 0.9223881363868713, 0.9237124919891357, 0.9259021878242493, 0.9278351664543152, 0.9289674758911133, 0.930427610874176, 0.9309303760528564, 0.9308580756187439, 0.9305045008659363, 0.9304863214492798, 0.9310082793235779, 0.9290177822113037, 0.9251436591148376, 0.9214771389961243, 0.918095052242279, 0.9175466895103455, 0.9226420521736145, 0.9288855791091919, 0.9316456317901611, 0.9221850037574768, 0.9124297499656677, 0.9122622609138489, 0.9111543297767639, 0.908840537071228, 0.9080520272254944, 0.9087247252464294, 0.9124879837036133, 0.9149012565612793, 0.9173629283905029, 0.9316570162773132, 0.9382214546203613, 0.9394093751907349, 0.9389238953590393, 0.9382789731025696, 0.9364625811576843, 0.9328732490539551, 0.9320741891860962, 0.9328314661979675, 0.9318980574607849, 0.9290343523025513, 0.9240889549255371, 0.9226686358451843, 0.9242092967033386, 0.9266355037689209, 0.9291818141937256, 0.9317535758018494, 0.9334492683410645, 0.9339385628700256, 0.9335412979125977, 0.9330639839172363, 0.9324720501899719, 0.93238765001297, 0.9329196214675903, 0.9340201616287231, 0.9351623058319092, 0.936901867389679, 0.9404094815254211, 0.9462782144546509, 0.9490506052970886, 0.949043333530426, 0.9477845430374146, 0.9464515447616577, 0.945764422416687, 0.9463258385658264, 0.9461299777030945, 0.9459918141365051, 0.9460216760635376, 0.9459342956542969, 0.945745050907135, 0.9453737735748291, 0.944936215877533, 0.9444734454154968, 0.9439396858215332, 0.9435999989509583, 0.9435269236564636, 0.943716287612915, 0.9439941048622131, 0.944269597530365, 0.9444079399108887, 0.944343626499176, 0.9439095258712769, 0.9429296851158142, 0.9414800405502319, 0.9393736720085144, 0.9364388585090637, 0.9326922297477722, 0.9287002682685852, 0.9248967170715332, 0.9214866161346436, 0.9188419580459595, 0.9170252084732056, 0.9158923029899597, 0.9154213070869446, 0.9152560234069824, 0.915254533290863, 0.9154190421104431, 0.9159141778945923, 0.9168630838394165, 0.9183475375175476, 0.9204576015472412, 0.9231352806091309, 0.9261389374732971, 0.9289538860321045, 0.9315822124481201, 0.9339886903762817, 0.9360772967338562, 0.9375694394111633, 0.9377211928367615, 0.9363524913787842, 0.9326432943344116, 0.92758709192276, 0.9220398664474487, 0.9151796698570251, 0.9083231091499329, 0.9019692540168762, 0.896956205368042, 0.8933944702148438, 0.8906514644622803, 0.8886630535125732, 0.8893446326255798, 0.890718400478363, 0.8900527358055115, 0.8882968425750732, 0.8876129388809204, 0.8883336186408997, 0.8901895880699158, 0.8924042582511902, 0.8943106532096863, 0.895683228969574, 0.8968568444252014, 0.8977755308151245, 0.8988155722618103, 0.9000645875930786, 0.9019074440002441, 0.9052752256393433, 0.9110819101333618, 0.9187220931053162, 0.9255676865577698, 0.9296475648880005, 0.9320659041404724, 0.9336957335472107, 0.9348984360694885, 0.9359809756278992, 0.9371285438537598, 0.9383414387702942, 0.9394165277481079, 0.9402995705604553, 0.9409976005554199, 0.9415334463119507, 0.9418431520462036, 0.9419522881507874, 0.9418740272521973, 0.9415486454963684, 0.9409511685371399, 0.9400591254234314, 0.9389129877090454, 0.9375522136688232, 0.9358013868331909, 0.9343037605285645, 0.9329596757888794, 0.9318033456802368, 0.9310136437416077, 0.9304229021072388, 0.9299085140228271, 0.9295803308486938, 0.9294517636299133, 0.9291809797286987, 0.9288086891174316, 0.9279791712760925, 0.9268083572387695, 0.9252164363861084, 0.9232466220855713, 0.9210284352302551, 0.918361246585846, 0.914640486240387, 0.9085279703140259, 0.899767279624939, 0.8860925436019897, 0.8743215203285217, 0.8697299361228943, 0.8689755201339722, 0.8703573942184448, 0.8721519708633423, 0.873195469379425, 0.8740805387496948, 0.877079427242279, 0.882219135761261, 0.8918768167495728, 0.9016637802124023, 0.9091073274612427, 0.9147369265556335, 0.9179272651672363, 0.9201249480247498, 0.9209614992141724, 0.9197832345962524, 0.9163681268692017, 0.9126535058021545, 0.9107044339179993, 0.909686803817749, 0.9092678427696228, 0.9081354737281799, 0.9056602120399475, 0.9025832414627075, 0.9006604552268982, 0.9014620184898376, 0.9006401300430298, 0.898947536945343, 0.8969730734825134, 0.8948182463645935, 0.8931990265846252, 0.8922014236450195, 0.8911391496658325, 0.8898255825042725, 0.8881245255470276, 0.8855653405189514, 0.88275545835495, 0.8820660710334778, 0.884155809879303, 0.8853287100791931, 0.8858386874198914, 0.8866556286811829, 0.8876276016235352, 0.8884983658790588, 0.8894535303115845, 0.8902722597122192, 0.8905075788497925, 0.8903736472129822, 0.8894641995429993, 0.8868175148963928, 0.8778547644615173, 0.8661467432975769, 0.8591844439506531, 0.8514965176582336, 0.8425354957580566, 0.8357584476470947, 0.831792414188385, 0.8286957740783691, 0.8245995044708252, 0.8197174668312073, 0.8167158961296082, 0.8150039315223694, 0.81423020362854, 0.8140614032745361, 0.8154458999633789, 0.8175714015960693, 0.8197790384292603, 0.8222609162330627, 0.8242806196212769, 0.8259011507034302, 0.8269782662391663, 0.8278017640113831, 0.8281506299972534, 0.8280011415481567, 0.8269919157028198, 0.8255663514137268, 0.8239346742630005, 0.8223100900650024, 0.8200047612190247, 0.8138025999069214, 0.8059735894203186, 0.803719699382782, 0.8042106032371521, 0.8053566813468933, 0.8067886233329773, 0.8088075518608093, 0.8107508420944214, 0.8124019503593445, 0.8134365081787109, 0.814129650592804, 0.8146587610244751, 0.8151928782463074, 0.815927267074585, 0.8170161843299866, 0.8185507655143738, 0.8203034996986389, 0.8226067423820496, 0.8255996704101562, 0.8301489949226379, 0.8376850485801697, 0.850372314453125, 0.8616383075714111, 0.866985559463501, 0.8698362708091736, 0.8722683191299438, 0.8745105862617493, 0.8765838146209717, 0.8779863119125366, 0.8788572549819946, 0.879330575466156, 0.8795601725578308, 0.8797673583030701, 0.8800645470619202, 0.8806505799293518, 0.8817826509475708, 0.8834384679794312, 0.8852037787437439, 0.8871565461158752, 0.8894345164299011, 0.8920309543609619, 0.8951416611671448, 0.8981465697288513, 0.9020792245864868, 0.908892035484314, 0.919155478477478, 0.9256131649017334, 0.9289129376411438, 0.9307224750518799, 0.9320948719978333, 0.9334007501602173, 0.9348310232162476, 0.9362350702285767, 0.9374383687973022, 0.9383976459503174, 0.9390888214111328, 0.9395119547843933, 0.9397377967834473, 0.9397433996200562, 0.939698338508606, 0.9396530389785767, 0.9395889639854431, 0.9395272135734558, 0.9394452571868896, 0.9393641352653503, 0.9396828413009644, 0.941835343837738, 0.9466970562934875, 0.9504122138023376, 0.9519839882850647, 0.9526919722557068, 0.9530717730522156, 0.953292191028595, 0.9534224271774292, 0.9534997940063477, 0.9534485340118408, 0.953212320804596, 0.9529796242713928, 0.9528613090515137, 0.9527892470359802, 0.9527285099029541, 0.9526693224906921, 0.9526102542877197, 0.9525474309921265, 0.9524990916252136, 0.9524611234664917, 0.952421247959137, 0.9523725509643555, 0.9523236751556396, 0.952284574508667, 0.9522549510002136, 0.9522355794906616, 0.9522925615310669, 0.952359676361084, 0.9523665904998779, 0.9522953629493713, 0.9519923329353333, 0.951394259929657, 0.9504744410514832, 0.9493606090545654, 0.9482664465904236, 0.9476351737976074, 0.9472678303718567, 0.9469946026802063, 0.9468164443969727, 0.9466568827629089, 0.9464715719223022, 0.9463058710098267, 0.9461250901222229, 0.9459211230278015, 0.9456844925880432, 0.9454185366630554, 0.9451806545257568, 0.9449673891067505, 0.9447662830352783, 0.9445865750312805, 0.944434404373169, 0.9442955255508423, 0.9441919326782227, 0.9441091418266296, 0.9440863132476807, 0.9441184997558594, 0.9441794753074646, 0.9442808628082275, 0.9444251656532288, 0.9446083903312683, 0.9448056221008301, 0.9450104236602783, 0.9452353119850159, 0.9454383850097656, 0.9456170797348022, 0.9458042979240417, 0.9459674954414368, 0.9460652470588684, 0.946087121963501, 0.9460651278495789, 0.9459896087646484, 0.945859432220459, 0.9456789493560791, 0.9454613924026489, 0.9451915621757507, 0.9449201226234436, 0.9446742534637451, 0.9444727897644043, 0.9442665576934814, 0.9440150260925293, 0.9435697793960571, 0.9428696036338806, 0.9420517086982727, 0.9415281414985657, 0.9413523077964783, 0.9413164854049683, 0.9413094520568848, 0.9413044452667236, 0.9412747025489807, 0.941222071647644, 0.9411513209342957, 0.9410925507545471, 0.9410361647605896, 0.9409897327423096, 0.9409311413764954, 0.9408933520317078, 0.9408804774284363, 0.9409095048904419, 0.9409911036491394, 0.9411174654960632, 0.9413183331489563, 0.9415363669395447, 0.9418011903762817, 0.9429240822792053, 0.9461647868156433, 0.9498789310455322, 0.9512082934379578, 0.9513068795204163, 0.9511023759841919, 0.9507836103439331, 0.9502891302108765, 0.9495005011558533, 0.9484118819236755, 0.9471151232719421, 0.945943295955658, 0.9450799226760864, 0.9446066617965698, 0.9443725347518921, 0.9440872669219971, 0.9436835646629333, 0.9430685639381409, 0.9420598745346069, 0.9409340620040894, 0.9396260976791382, 0.9381818175315857, 0.9365431070327759, 0.9345574378967285, 0.9321153163909912, 0.9293174147605896, 0.9260686039924622, 0.9227967262268066, 0.9199357628822327, 0.9178250432014465, 0.9163569211959839, 0.9155117273330688, 0.9153973460197449, 0.9158802628517151, 0.9163632988929749, 0.9157013297080994, 0.9134966731071472, 0.9094071388244629, 0.9018992185592651, 0.881962776184082, 0.8463106751441956, 0.8052278161048889, 0.7484734654426575, 0.704119086265564, 0.7079416513442993, 0.7069390416145325, 0.6215711236000061, 0.4742078483104706, 0.3618604242801666, 0.3179847002029419, 0.30604663491249084, 0.29078441858291626, 0.24701523780822754, 0.235001340508461, 0.24942657351493835, 0.2349538505077362, 0.2514614164829254, 0.3014576733112335, 0.3724637031555176, 0.4215635061264038, 0.4480653703212738, 0.44812557101249695, 0.43066075444221497, 0.42658400535583496, 0.44012489914894104, 0.4351731240749359, 0.42354920506477356, 0.41472816467285156, 0.40980225801467896, 0.40974363684654236, 0.4133712947368622, 0.42281869053840637, 0.4408060610294342, 0.46083706617355347, 0.4415872097015381, 0.4150351881980896, 0.394128680229187, 0.4010048806667328, 0.42909708619117737, 0.4537232220172882, 0.4686393141746521, 0.45296287536621094, 0.45691466331481934, 0.5219678282737732, 0.5383095741271973, 0.5555649399757385, 0.5438634157180786, 0.527778685092926, 0.5282707214355469, 0.5813652873039246, 0.6483913660049438, 0.6764330863952637, 0.6716368794441223, 0.625417947769165, 0.6201301217079163, 0.6594393253326416, 0.7041982412338257, 0.7363254427909851, 0.7466946840286255, 0.7193390727043152, 0.37168920040130615, 0.0668826699256897, 0.03579673171043396, 0.029268624261021614, 0.03218785300850868, 0.03920150175690651, 0.051615454256534576, 0.108536496758461, 0.286624938249588, 0.43537816405296326, 0.4788782596588135, 0.4533022940158844, 0.33439940214157104, 0.15039470791816711, 0.05485870689153671, 0.02810719795525074, 0.023943468928337097, 0.024460405111312866, 0.026007190346717834, 0.028520194813609123, 0.03244898468255997, 0.036301854997873306, 0.03776347637176514, 0.03720031678676605, 0.03683771565556526, 0.03716723993420601, 0.03745637461543083, 0.03704722970724106, 0.03686898201704025, 0.035742927342653275, 0.034305207431316376, 0.03373328968882561, 0.03364952281117439, 0.03444751724600792, 0.03652241453528404, 0.038658395409584045, 0.04072616249322891, 0.042351678013801575, 0.04340533912181854, 0.041951023042201996, 0.036755528301000595, 0.03500738367438316, 0.03784582018852234, 0.04062402620911598, 0.04303782433271408, 0.04178772121667862, 0.038829296827316284, 0.03567277640104294, 0.03393435850739479, 0.0322403684258461, 0.032052405178546906, 0.03208892047405243, 0.03357791528105736, 0.0350821316242218, 0.036341987550258636, 0.03513699769973755, 0.03699655085802078, 0.039009008556604385, 0.038113269954919815, 0.03702593594789505, 0.03503665700554848, 0.03414275497198105, 0.03545689210295677, 0.03987983241677284, 0.04434468224644661, 0.045359961688518524, 0.046261776238679886, 0.04799238219857216, 0.05007246136665344, 0.05247250571846962, 0.05525027588009834, 0.05837876349687576, 0.061423107981681824, 0.06478229910135269, 0.06919792294502258, 0.07393237203359604, 0.07971838861703873, 0.08676934987306595, 0.09457647800445557, 0.10453080385923386, 0.11771716177463531, 0.12449762225151062, 0.12288642674684525, 0.11846595257520676, 0.11307822912931442, 0.10756339877843857, 0.10126129537820816, 0.09313943237066269, 0.08157311379909515, 0.06685826927423477, 0.055039700120687485, 0.04756097123026848, 0.04213734343647957, 0.03529035300016403, 0.028776761144399643, 0.026540882885456085, 0.025946997106075287, 0.025813274085521698, 0.025715092197060585, 0.02559736557304859, 0.025397801771759987, 0.024426117539405823, 0.022745508700609207, 0.021353963762521744, 0.020793145522475243, 0.020476361736655235, 0.02022058330476284, 0.020029369741678238, 0.01992490515112877, 0.019898397848010063, 0.020059699192643166, 0.020147200673818588, 0.020075658336281776, 0.01973414421081543, 0.019443023949861526, 0.019630329683423042, 0.02004692144691944, 0.020640704780817032, 0.02054743655025959, 0.017539195716381073, 0.013799880631268024, 0.01303178258240223, 0.013472995720803738, 0.014310471713542938, 0.015370535664260387, 0.01730518788099289, 0.022556429728865623, 0.027645064517855644, 0.030032219365239143, 0.031211966648697853, 0.031967584043741226, 0.033343955874443054, 0.03587191551923752, 0.038166798651218414, 0.03994505852460861, 0.041108451783657074, 0.042019542306661606, 0.042641058564186096, 0.04294706508517265, 0.04294115677475929, 0.04269613325595856, 0.042210083454847336, 0.041621677577495575, 0.040990252047777176, 0.04014382138848305, 0.03911643847823143, 0.037794329226017, 0.03627578169107437, 0.03448406606912613, 0.03214142099022865, 0.02921019122004509, 0.02544504404067993, 0.021708771586418152, 0.018917487934231758, 0.016580577939748764, 0.014180488884449005, 0.012694708071649075, 0.01213325746357441, 0.011850574985146523, 0.011753048747777939, 0.01190500520169735, 0.012160234153270721, 0.012454238720238209, 0.012969769537448883, 0.01385118905454874, 0.015043647028505802, 0.01696375571191311, 0.01995399035513401, 0.02304975315928459, 0.025325482711195946, 0.026035942137241364, 0.02588026225566864, 0.02581174485385418, 0.02587083727121353, 0.025857975706458092, 0.02591654285788536, 0.025869714096188545, 0.025831036269664764, 0.02629694528877735, 0.028815003111958504, 0.0342428982257843, 0.037304703146219254, 0.03818965703248978, 0.038707185536623, 0.03927750512957573, 0.03981395810842514, 0.040336836129426956, 0.04087096080183983, 0.041171662509441376, 0.04056134074926376, 0.03983928635716438, 0.04041476547718048, 0.04185386002063751, 0.043117303401231766, 0.04322829842567444, 0.04210348427295685, 0.040256306529045105, 0.03781823441386223, 0.036023300141096115, 0.03513696417212486, 0.03519067540764809, 0.03571344539523125, 0.035312145948410034, 0.03151263669133186, 0.02795802801847458, 0.027200208976864815, 0.02757958322763443, 0.028192786499857903, 0.02864481508731842, 0.028864750638604164, 0.028893638402223587, 0.028731850907206535, 0.028324486687779427, 0.02769923396408558, 0.026912761852145195, 0.02591969631612301, 0.02467900700867176, 0.02329215221107006, 0.021861311048269272, 0.02050219476222992, 0.019184013828635216, 0.018061580136418343, 0.017011547461152077, 0.016264354810118675, 0.015803128480911255, 0.015590516850352287, 0.015569900162518024, 0.01576857641339302, 0.016064608469605446, 0.01652313955128193, 0.017135944217443466, 0.017949718981981277, 0.018895870074629784, 0.019665012136101723, 0.02018050104379654, 0.0204186849296093, 0.020437803119421005, 0.020308692008256912, 0.020153891295194626, 0.019995741546154022, 0.01978636160492897, 0.01948194019496441, 0.019054709002375603, 0.01856267638504505, 0.018229499459266663, 0.018808972090482712, 0.019970666617155075, 0.020252954214811325, 0.019776342436671257, 0.019001083448529243, 0.018400097265839577, 0.017940694466233253, 0.017544051632285118, 0.017277192324399948, 0.017162876203656197, 0.017160456627607346, 0.01729878969490528, 0.017550034448504448, 0.017901863902807236, 0.01836232654750347, 0.018838312476873398, 0.01938123069703579, 0.020023787394165993, 0.020609209313988686, 0.021241379901766777, 0.021753229200839996, 0.021908389404416084, 0.021725434809923172, 0.02144700102508068, 0.021302899345755577, 0.021200677379965782, 0.021185027435421944, 0.021260231733322144, 0.02150430902838707, 0.021834177896380424, 0.022271789610385895, 0.022730447351932526, 0.023059500381350517, 0.023330822587013245, 0.02351003885269165, 0.023850316181778908, 0.024331072345376015, 0.02494502067565918, 0.025896752253174782, 0.027389662340283394, 0.02907838299870491, 0.030552970245480537, 0.03092101775109768, 0.029704183340072632, 0.026053734123706818, 0.022651325911283493, 0.021494140848517418, 0.023325147107243538, 0.032387468963861465, 0.04616070166230202, 0.0523897223174572, 0.05386699363589287, 0.05438505858182907, 0.05471871420741081, 0.055367033928632736, 0.05714600160717964, 0.059410616755485535, 0.06521985679864883, 0.07225605845451355, 0.07305676490068436, 0.07242870330810547, 0.07092995941638947, 0.06698213517665863, 0.06048879772424698, 0.05444604903459549, 0.05456392467021942, 0.05393184721469879, 0.05341307073831558, 0.05458495393395424, 0.056712277233600616, 0.057779211550951004, 0.05922676622867584, 0.06372405588626862]\n"
     ]
    }
   ],
   "source": [
    "print(predictions2)"
   ]
  },
  {
   "cell_type": "code",
   "execution_count": 93,
   "metadata": {},
   "outputs": [
    {
     "data": {
      "text/plain": [
       "[<matplotlib.lines.Line2D at 0x13643a5e550>]"
      ]
     },
     "execution_count": 93,
     "metadata": {},
     "output_type": "execute_result"
    },
    {
     "data": {
      "image/png": "[encoded data removed]",
      "text/plain": [
       "<Figure size 640x480 with 1 Axes>"
      ]
     },
     "metadata": {},
     "output_type": "display_data"
    }
   ],
   "source": [
    "plt.plot(predictions2)"
   ]
  },
  {
   "cell_type": "code",
   "execution_count": 21,
   "metadata": {},
   "outputs": [],
   "source": [
    "def createRealTimeTestData(dataset,start,end):\n",
    "    result = pd.read_csv(dataset)\n",
    "    result = result[start:end]\n",
    "    result['EulerX'] = 0\n",
    "    result['EulerY'] = 0\n",
    "    result['EulerZ'] = 0\n",
    "    print(len(result))\n",
    "    result['Roll'],result['Pitch'],result['Yaw'] = result['Pitch'],result['Roll'],result['Yaw']\n",
    "    result['EulerX'],result['EulerY'],result['EulerZ'] = result['Roll'],result['Pitch'],result['Yaw']        \n",
    "    result = result.drop(columns=['Timestamp','Roll','Yaw','Pitch'])\n",
    "    for col in range(9):\n",
    "        result.iloc[:,col] = uniform_filter1d(result.iloc[:,col],size=10)\n",
    "\n",
    "    result['Acc_X'],result['Acc_Z'] = result['Acc_Z'],result['Acc_X']\n",
    "    result['Gyro_X'],result['Gyro_Z'] = result['Gyro_Z'],result['Gyro_X'] \n",
    "    result['EulerX'],result['EulerZ'] = result['EulerZ'],result['EulerX'] \n",
    "    result['Acc_X'] = result['Acc_X']/-9.8\n",
    "    result['Acc_Y'] = result['Acc_Y']/-9.8\n",
    "    result['Acc_Z'] = result['Acc_Z']/-9.8\n",
    "\n",
    "\n",
    "    test = result\n",
    "    \n",
    "    print(test.head())\n",
    "    return test\n",
    "\n",
    "def runRealTimePredictions(test):\n",
    "    predictions = []\n",
    "    for i in range(250,len(test)-500):\n",
    "        x = test[i:i+500].reset_index(drop=True)\n",
    "        test_tensor = tf.convert_to_tensor(x)\n",
    "        predictions.append(model2.predict(np.asarray([test_tensor])).item())\n",
    "    return predictions"
   ]
  },
  {
   "cell_type": "code",
   "execution_count": 23,
   "metadata": {},
   "outputs": [
    {
     "name": "stdout",
     "output_type": "stream",
     "text": [
      "5000\n",
      "      Acc_X     Acc_Y     Acc_Z    Gyro_X    Gyro_Y    Gyro_Z     EulerX  \\\n",
      "0 -0.678658 -0.715662  0.255702 -0.086282 -0.051158  0.070950 -82.979675   \n",
      "1 -0.677669 -0.715948  0.255928 -0.086084 -0.054426  0.067117 -82.955212   \n",
      "2 -0.673757 -0.716553  0.255977 -0.085122 -0.062642  0.055740 -82.897187   \n",
      "3 -0.665424 -0.716821  0.254604 -0.082861 -0.070202  0.040774 -82.887897   \n",
      "4 -0.657385 -0.716357  0.250447 -0.080449 -0.074478  0.028527 -82.990933   \n",
      "\n",
      "      EulerY     EulerZ  \n",
      "0  20.706239 -44.641601  \n",
      "1  20.756321 -44.687820  \n",
      "2  20.886531 -44.863867  \n",
      "3  21.036311 -45.217727  \n",
      "4  20.937774 -45.556826  \n"
     ]
    }
   ],
   "source": [
    "test = createRealTimeTestData('phoneThrow.csv',0,5000)"
   ]
  },
  {
   "cell_type": "code",
   "execution_count": 25,
   "metadata": {},
   "outputs": [
    {
     "ename": "ValueError",
     "evalue": "in user code:\n\n    File \"c:\\Users\\prach\\miniconda3\\envs\\tf\\lib\\site-packages\\keras\\engine\\training.py\", line 2041, in predict_function  *\n        return step_function(self, iterator)\n    File \"c:\\Users\\prach\\miniconda3\\envs\\tf\\lib\\site-packages\\keras\\engine\\training.py\", line 2027, in step_function  **\n        outputs = model.distribute_strategy.run(run_step, args=(data,))\n    File \"c:\\Users\\prach\\miniconda3\\envs\\tf\\lib\\site-packages\\keras\\engine\\training.py\", line 2015, in run_step  **\n        outputs = model.predict_step(data)\n    File \"c:\\Users\\prach\\miniconda3\\envs\\tf\\lib\\site-packages\\keras\\engine\\training.py\", line 1983, in predict_step\n        return self(x, training=False)\n    File \"c:\\Users\\prach\\miniconda3\\envs\\tf\\lib\\site-packages\\keras\\utils\\traceback_utils.py\", line 70, in error_handler\n        raise e.with_traceback(filtered_tb) from None\n    File \"c:\\Users\\prach\\miniconda3\\envs\\tf\\lib\\site-packages\\keras\\engine\\input_spec.py\", line 295, in assert_input_compatibility\n        raise ValueError(\n\n    ValueError: Input 0 of layer \"sequential_8\" is incompatible with the layer: expected shape=(None, 1000, 9), found shape=(None, 500, 9)\n",
     "output_type": "error",
     "traceback": [
      "\u001b[1;31m---------------------------------------------------------------------------\u001b[0m",
      "\u001b[1;31mValueError\u001b[0m                                Traceback (most recent call last)",
      "\u001b[1;32mc:\\Users\\prach\\OneDrive\\Desktop\\Fresh\\K Fall\\model2.ipynb Cell 38\u001b[0m line \u001b[0;36m1\n\u001b[1;32m----> <a href='vscode-notebook-cell:/c%3A/Users/prach/OneDrive/Desktop/Fresh/K%20Fall/model2.ipynb#X54sZmlsZQ%3D%3D?line=0'>1</a>\u001b[0m predictions \u001b[39m=\u001b[39m runRealTimePredictions(test)\n",
      "\u001b[1;32mc:\\Users\\prach\\OneDrive\\Desktop\\Fresh\\K Fall\\model2.ipynb Cell 38\u001b[0m line \u001b[0;36m3\n\u001b[0;32m     <a href='vscode-notebook-cell:/c%3A/Users/prach/OneDrive/Desktop/Fresh/K%20Fall/model2.ipynb#X54sZmlsZQ%3D%3D?line=29'>30</a>\u001b[0m     x \u001b[39m=\u001b[39m test[i:i\u001b[39m+\u001b[39m\u001b[39m500\u001b[39m]\u001b[39m.\u001b[39mreset_index(drop\u001b[39m=\u001b[39m\u001b[39mTrue\u001b[39;00m)\n\u001b[0;32m     <a href='vscode-notebook-cell:/c%3A/Users/prach/OneDrive/Desktop/Fresh/K%20Fall/model2.ipynb#X54sZmlsZQ%3D%3D?line=30'>31</a>\u001b[0m     test_tensor \u001b[39m=\u001b[39m tf\u001b[39m.\u001b[39mconvert_to_tensor(x)\n\u001b[1;32m---> <a href='vscode-notebook-cell:/c%3A/Users/prach/OneDrive/Desktop/Fresh/K%20Fall/model2.ipynb#X54sZmlsZQ%3D%3D?line=31'>32</a>\u001b[0m     predictions\u001b[39m.\u001b[39mappend(model2\u001b[39m.\u001b[39;49mpredict(np\u001b[39m.\u001b[39;49masarray([test_tensor]))\u001b[39m.\u001b[39mitem())\n\u001b[0;32m     <a href='vscode-notebook-cell:/c%3A/Users/prach/OneDrive/Desktop/Fresh/K%20Fall/model2.ipynb#X54sZmlsZQ%3D%3D?line=32'>33</a>\u001b[0m \u001b[39mreturn\u001b[39;00m predictions\n",
      "File \u001b[1;32mc:\\Users\\prach\\miniconda3\\envs\\tf\\lib\\site-packages\\keras\\utils\\traceback_utils.py:70\u001b[0m, in \u001b[0;36mfilter_traceback.<locals>.error_handler\u001b[1;34m(*args, **kwargs)\u001b[0m\n\u001b[0;32m     67\u001b[0m     filtered_tb \u001b[39m=\u001b[39m _process_traceback_frames(e\u001b[39m.\u001b[39m__traceback__)\n\u001b[0;32m     68\u001b[0m     \u001b[39m# To get the full stack trace, call:\u001b[39;00m\n\u001b[0;32m     69\u001b[0m     \u001b[39m# `tf.debugging.disable_traceback_filtering()`\u001b[39;00m\n\u001b[1;32m---> 70\u001b[0m     \u001b[39mraise\u001b[39;00m e\u001b[39m.\u001b[39mwith_traceback(filtered_tb) \u001b[39mfrom\u001b[39;00m \u001b[39mNone\u001b[39m\n\u001b[0;32m     71\u001b[0m \u001b[39mfinally\u001b[39;00m:\n\u001b[0;32m     72\u001b[0m     \u001b[39mdel\u001b[39;00m filtered_tb\n",
      "File \u001b[1;32m~\\AppData\\Local\\Temp\\__autograph_generated_filev7npe5e4.py:15\u001b[0m, in \u001b[0;36mouter_factory.<locals>.inner_factory.<locals>.tf__predict_function\u001b[1;34m(iterator)\u001b[0m\n\u001b[0;32m     13\u001b[0m \u001b[39mtry\u001b[39;00m:\n\u001b[0;32m     14\u001b[0m     do_return \u001b[39m=\u001b[39m \u001b[39mTrue\u001b[39;00m\n\u001b[1;32m---> 15\u001b[0m     retval_ \u001b[39m=\u001b[39m ag__\u001b[39m.\u001b[39mconverted_call(ag__\u001b[39m.\u001b[39mld(step_function), (ag__\u001b[39m.\u001b[39mld(\u001b[39mself\u001b[39m), ag__\u001b[39m.\u001b[39mld(iterator)), \u001b[39mNone\u001b[39;00m, fscope)\n\u001b[0;32m     16\u001b[0m \u001b[39mexcept\u001b[39;00m:\n\u001b[0;32m     17\u001b[0m     do_return \u001b[39m=\u001b[39m \u001b[39mFalse\u001b[39;00m\n",
      "\u001b[1;31mValueError\u001b[0m: in user code:\n\n    File \"c:\\Users\\prach\\miniconda3\\envs\\tf\\lib\\site-packages\\keras\\engine\\training.py\", line 2041, in predict_function  *\n        return step_function(self, iterator)\n    File \"c:\\Users\\prach\\miniconda3\\envs\\tf\\lib\\site-packages\\keras\\engine\\training.py\", line 2027, in step_function  **\n        outputs = model.distribute_strategy.run(run_step, args=(data,))\n    File \"c:\\Users\\prach\\miniconda3\\envs\\tf\\lib\\site-packages\\keras\\engine\\training.py\", line 2015, in run_step  **\n        outputs = model.predict_step(data)\n    File \"c:\\Users\\prach\\miniconda3\\envs\\tf\\lib\\site-packages\\keras\\engine\\training.py\", line 1983, in predict_step\n        return self(x, training=False)\n    File \"c:\\Users\\prach\\miniconda3\\envs\\tf\\lib\\site-packages\\keras\\utils\\traceback_utils.py\", line 70, in error_handler\n        raise e.with_traceback(filtered_tb) from None\n    File \"c:\\Users\\prach\\miniconda3\\envs\\tf\\lib\\site-packages\\keras\\engine\\input_spec.py\", line 295, in assert_input_compatibility\n        raise ValueError(\n\n    ValueError: Input 0 of layer \"sequential_8\" is incompatible with the layer: expected shape=(None, 1000, 9), found shape=(None, 500, 9)\n"
     ]
    }
   ],
   "source": [
    "predictions = runRealTimePredictions(test)"
   ]
  },
  {
   "cell_type": "code",
   "execution_count": null,
   "metadata": {},
   "outputs": [],
   "source": [
    "plt.plot(predictions)"
   ]
  },
  {
   "cell_type": "code",
   "execution_count": 2,
   "metadata": {},
   "outputs": [
    {
     "data": {
      "text/plain": [
       "97856"
      ]
     },
     "execution_count": 2,
     "metadata": {},
     "output_type": "execute_result"
    }
   ],
   "source": [
    "import tensorflow as tf\n",
    "saved_model_dir = \"model2\"\n",
    "# Convert the model\n",
    "converter = tf.lite.TFLiteConverter.from_saved_model(saved_model_dir) # path to the SavedModel directory\n",
    "\n",
    "converter.target_spec.supported_ops = [tf.lite.OpsSet.TFLITE_BUILTINS, tf.lite.OpsSet.SELECT_TF_OPS] \n",
    "converter._experimental_lower_tensor_list_ops = False\n",
    "converter.optimizations = [tf.lite.Optimize.DEFAULT]\n",
    "tflite_model = converter.convert() \n",
    "open(\"model.tflite\", \"wb\").write(tflite_model)\n"
   ]
  },
  {
   "cell_type": "markdown",
   "metadata": {},
   "source": [
    "sh tensorflow/lite/tools/build_aar.sh  --input_models=model.tflite  --target_archs=x86,x86_64,arm64-v8a,armeabi-v7a\n"
   ]
  }
 ],
 "metadata": {
  "kernelspec": {
   "display_name": "tf",
   "language": "python",
   "name": "python3"
  },
  "language_info": {
   "codemirror_mode": {
    "name": "ipython",
    "version": 3
   },
   "file_extension": ".py",
   "mimetype": "text/x-python",
   "name": "python",
   "nbconvert_exporter": "python",
   "pygments_lexer": "ipython3",
   "version": "3.9.16"
  },
  "orig_nbformat": 4
 },
 "nbformat": 4,
 "nbformat_minor": 2
}
